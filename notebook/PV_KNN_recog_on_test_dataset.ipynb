{
 "cells": [
  {
   "cell_type": "markdown",
   "metadata": {},
   "source": [
    "# KNN classification on test dataset (transformation of images)"
   ]
  },
  {
   "cell_type": "code",
   "execution_count": 1,
   "metadata": {},
   "outputs": [],
   "source": [
    "import numpy as np\n",
    "import pandas as pd\n",
    "import matplotlib.pyplot as plt\n",
    "import seaborn as sns\n",
    "import os\n",
    "from sklearn.metrics import accuracy_score\n",
    "from sklearn.neighbors import KNeighborsRegressor\n",
    "from tensorflow.keras.preprocessing import image_dataset_from_directory\n",
    "from tensorflow.keras import layers, models, Sequential, Input, Model\n",
    "from tensorflow.data.experimental import cardinality\n",
    "from tensorflow.data.experimental import AUTOTUNE\n",
    "from tensorflow.keras.models import load_model\n",
    "import joblib"
   ]
  },
  {
   "cell_type": "code",
   "execution_count": 2,
   "metadata": {},
   "outputs": [],
   "source": [
    "CNN_model_path = '../models/Full_training/20201212_205911_VGG16_v3_27/'\n",
    "#CNN_model_path = '../models/Full_training/20201211_202203_VGG16_v3_4/'\n",
    "images_db_dir = r'C:\\Users\\pitip\\OneDrive\\Bureau\\raw_data\\Clean_Data\\Test'\n",
    "test_dir_imext = r'C:\\Users\\pitip\\OneDrive\\Bureau\\raw_data\\Clean_Data\\Recog_test_dataset'"
   ]
  },
  {
   "cell_type": "markdown",
   "metadata": {},
   "source": [
    "# KNN model preparation\n",
    "- load CNN model\n",
    "- prepare DB for KNN fit\n",
    "- get embedding"
   ]
  },
  {
   "cell_type": "code",
   "execution_count": 3,
   "metadata": {},
   "outputs": [
    {
     "name": "stdout",
     "output_type": "stream",
     "text": [
      "WARNING:tensorflow:SavedModel saved prior to TF 2.4 detected when loading Keras model. Please ensure that you are saving the model with model.save() or tf.keras.models.save_model(), *NOT* tf.saved_model.save(). To confirm, there should be a file named \"keras_metadata.pb\" in the SavedModel directory.\n"
     ]
    }
   ],
   "source": [
    "model = load_model(CNN_model_path)"
   ]
  },
  {
   "cell_type": "code",
   "execution_count": 4,
   "metadata": {},
   "outputs": [
    {
     "name": "stdout",
     "output_type": "stream",
     "text": [
      "Found 1390 files belonging to 12 classes.\n",
      "Wall time: 5min 44s\n"
     ]
    },
    {
     "data": {
      "text/plain": [
       "(1390, 50)"
      ]
     },
     "execution_count": 4,
     "metadata": {},
     "output_type": "execute_result"
    }
   ],
   "source": [
    "%%time\n",
    "\n",
    "BATCH_SIZE = 32\n",
    "IMG_SIZE = (224, 224)\n",
    "\n",
    "layer_outputs = [model.layers[-1].input]\n",
    "embedding_model = models.Model(inputs=model.input, outputs=layer_outputs)\n",
    "\n",
    "img_list = []\n",
    "for dir_path in os.listdir(images_db_dir):\n",
    "    img_list += os.listdir(os.path.join(images_db_dir, dir_path))\n",
    "\n",
    "test_dataset = image_dataset_from_directory(images_db_dir, shuffle=False, batch_size=BATCH_SIZE, image_size=IMG_SIZE, label_mode='int', \n",
    "                                             labels=img_list, interpolation='bilinear')\n",
    "\n",
    "image_embeddings = embedding_model.predict(test_dataset)\n",
    "image_embeddings.shape"
   ]
  },
  {
   "cell_type": "code",
   "execution_count": 5,
   "metadata": {},
   "outputs": [
    {
     "data": {
      "text/plain": [
       "KNeighborsRegressor(n_neighbors=1)"
      ]
     },
     "execution_count": 5,
     "metadata": {},
     "output_type": "execute_result"
    }
   ],
   "source": [
    "knr = KNeighborsRegressor(n_neighbors=1)\n",
    "knr.fit(image_embeddings, img_list)"
   ]
  },
  {
   "cell_type": "markdown",
   "metadata": {},
   "source": [
    "## KNN prediction"
   ]
  },
  {
   "cell_type": "code",
   "execution_count": 6,
   "metadata": {},
   "outputs": [
    {
     "name": "stdout",
     "output_type": "stream",
     "text": [
      "Found 158 files belonging to 1 classes.\n",
      "Wall time: 39.7 s\n"
     ]
    },
    {
     "data": {
      "text/plain": [
       "(158, 50)"
      ]
     },
     "execution_count": 6,
     "metadata": {},
     "output_type": "execute_result"
    }
   ],
   "source": [
    "%%time\n",
    "img_list_imext = []\n",
    "for dir_path in os.listdir(test_dir_imext):\n",
    "    img_list_imext += os.listdir(os.path.join(test_dir_imext, dir_path))\n",
    "test_dataset_imext = image_dataset_from_directory(test_dir_imext, shuffle=False, batch_size=BATCH_SIZE, image_size=IMG_SIZE, label_mode='int', \n",
    "                                             labels=img_list_imext, interpolation='bilinear')\n",
    "\n",
    "\n",
    "#print(img_list_imext)\n",
    "image_embeddings_imext = embedding_model.predict(test_dataset_imext)\n",
    "image_embeddings_imext.shape"
   ]
  },
  {
   "cell_type": "code",
   "execution_count": 7,
   "metadata": {},
   "outputs": [],
   "source": [
    "pred_1 = []\n",
    "dist_1 = []\n",
    "pred_2 = []\n",
    "dist_2 = []\n",
    "pred_3 = []\n",
    "dist_3 = []\n",
    "for i in range(len(img_list_imext)):\n",
    "    dist, pred_label = knr.kneighbors(X=image_embeddings_imext[i,:].reshape(1, -1), n_neighbors=3, return_distance=True)\n",
    "    pred_1.append(img_list[pred_label[0][0]])\n",
    "    pred_2.append(img_list[pred_label[0][1]])\n",
    "    pred_3.append(img_list[pred_label[0][2]])\n",
    "    dist_1.append(dist[0][0])\n",
    "    dist_2.append(dist[0][1])\n",
    "    dist_3.append(dist[0][2])"
   ]
  },
  {
   "cell_type": "code",
   "execution_count": 8,
   "metadata": {},
   "outputs": [
    {
     "data": {
      "text/html": [
       "<div>\n",
       "<style scoped>\n",
       "    .dataframe tbody tr th:only-of-type {\n",
       "        vertical-align: middle;\n",
       "    }\n",
       "\n",
       "    .dataframe tbody tr th {\n",
       "        vertical-align: top;\n",
       "    }\n",
       "\n",
       "    .dataframe thead th {\n",
       "        text-align: right;\n",
       "    }\n",
       "</style>\n",
       "<table border=\"1\" class=\"dataframe\">\n",
       "  <thead>\n",
       "    <tr style=\"text-align: right;\">\n",
       "      <th></th>\n",
       "      <th>Label</th>\n",
       "      <th>Original_image</th>\n",
       "      <th>Transform</th>\n",
       "      <th>pred_1</th>\n",
       "      <th>pred_2</th>\n",
       "      <th>pred_3</th>\n",
       "      <th>dist_1</th>\n",
       "      <th>dist_2</th>\n",
       "      <th>dist_3</th>\n",
       "    </tr>\n",
       "  </thead>\n",
       "  <tbody>\n",
       "    <tr>\n",
       "      <th>0</th>\n",
       "      <td>10030.jpg</td>\n",
       "      <td>10030.jpg</td>\n",
       "      <td>0</td>\n",
       "      <td>10030.jpg</td>\n",
       "      <td>89342.jpg</td>\n",
       "      <td>27298.jpg</td>\n",
       "      <td>5.893276</td>\n",
       "      <td>131.267877</td>\n",
       "      <td>154.938676</td>\n",
       "    </tr>\n",
       "    <tr>\n",
       "      <th>1</th>\n",
       "      <td>10030_1.jpg</td>\n",
       "      <td>10030.jpg</td>\n",
       "      <td>1</td>\n",
       "      <td>70268.jpg</td>\n",
       "      <td>44268.jpg</td>\n",
       "      <td>10030.jpg</td>\n",
       "      <td>228.965937</td>\n",
       "      <td>233.638028</td>\n",
       "      <td>242.024511</td>\n",
       "    </tr>\n",
       "    <tr>\n",
       "      <th>2</th>\n",
       "      <td>10030_2.jpg</td>\n",
       "      <td>10030.jpg</td>\n",
       "      <td>2</td>\n",
       "      <td>77437.jpg</td>\n",
       "      <td>72847.jpg</td>\n",
       "      <td>31992.jpg</td>\n",
       "      <td>126.592545</td>\n",
       "      <td>142.372494</td>\n",
       "      <td>147.936012</td>\n",
       "    </tr>\n",
       "    <tr>\n",
       "      <th>3</th>\n",
       "      <td>10030_3.jpg</td>\n",
       "      <td>10030.jpg</td>\n",
       "      <td>3</td>\n",
       "      <td>77819.jpg</td>\n",
       "      <td>68975.jpg</td>\n",
       "      <td>31250.jpg</td>\n",
       "      <td>308.585956</td>\n",
       "      <td>309.004729</td>\n",
       "      <td>309.731334</td>\n",
       "    </tr>\n",
       "    <tr>\n",
       "      <th>4</th>\n",
       "      <td>10030_4.jpg</td>\n",
       "      <td>10030.jpg</td>\n",
       "      <td>4</td>\n",
       "      <td>17758.jpg</td>\n",
       "      <td>75524.jpg</td>\n",
       "      <td>37977.jpg</td>\n",
       "      <td>104.355752</td>\n",
       "      <td>142.027532</td>\n",
       "      <td>148.036446</td>\n",
       "    </tr>\n",
       "  </tbody>\n",
       "</table>\n",
       "</div>"
      ],
      "text/plain": [
       "         Label Original_image  Transform     pred_1     pred_2     pred_3  \\\n",
       "0    10030.jpg      10030.jpg          0  10030.jpg  89342.jpg  27298.jpg   \n",
       "1  10030_1.jpg      10030.jpg          1  70268.jpg  44268.jpg  10030.jpg   \n",
       "2  10030_2.jpg      10030.jpg          2  77437.jpg  72847.jpg  31992.jpg   \n",
       "3  10030_3.jpg      10030.jpg          3  77819.jpg  68975.jpg  31250.jpg   \n",
       "4  10030_4.jpg      10030.jpg          4  17758.jpg  75524.jpg  37977.jpg   \n",
       "\n",
       "       dist_1      dist_2      dist_3  \n",
       "0    5.893276  131.267877  154.938676  \n",
       "1  228.965937  233.638028  242.024511  \n",
       "2  126.592545  142.372494  147.936012  \n",
       "3  308.585956  309.004729  309.731334  \n",
       "4  104.355752  142.027532  148.036446  "
      ]
     },
     "execution_count": 8,
     "metadata": {},
     "output_type": "execute_result"
    }
   ],
   "source": [
    "results_df = pd.DataFrame({'Label': img_list_imext, 'Original_image': [os.path.splitext(s)[0].split('_')[0]+'.jpg' for s in img_list_imext],\n",
    "                           'Transform':[int(os.path.splitext(s)[0].split('_')[-1]) if len(os.path.splitext(s)[0].split('_'))==2 else 0 for s in img_list_imext], 'pred_1':pred_1,'pred_2':pred_2,\n",
    "                            'pred_3':pred_3, 'dist_1':dist_1, 'dist_2':dist_2, 'dist_3':dist_3})\n",
    "results_df.head()"
   ]
  },
  {
   "cell_type": "code",
   "execution_count": 9,
   "metadata": {},
   "outputs": [
    {
     "data": {
      "text/plain": [
       "0.6012658227848101"
      ]
     },
     "execution_count": 9,
     "metadata": {},
     "output_type": "execute_result"
    }
   ],
   "source": [
    "accuracy_score(results_df['Original_image'], results_df['pred_1'])"
   ]
  },
  {
   "cell_type": "code",
   "execution_count": 10,
   "metadata": {},
   "outputs": [
    {
     "data": {
      "text/html": [
       "<div>\n",
       "<style scoped>\n",
       "    .dataframe tbody tr th:only-of-type {\n",
       "        vertical-align: middle;\n",
       "    }\n",
       "\n",
       "    .dataframe tbody tr th {\n",
       "        vertical-align: top;\n",
       "    }\n",
       "\n",
       "    .dataframe thead th {\n",
       "        text-align: right;\n",
       "    }\n",
       "</style>\n",
       "<table border=\"1\" class=\"dataframe\">\n",
       "  <thead>\n",
       "    <tr style=\"text-align: right;\">\n",
       "      <th></th>\n",
       "      <th>Label</th>\n",
       "      <th>Original_image</th>\n",
       "      <th>Transform</th>\n",
       "      <th>pred_1</th>\n",
       "      <th>pred_2</th>\n",
       "      <th>pred_3</th>\n",
       "      <th>dist_1</th>\n",
       "      <th>dist_2</th>\n",
       "      <th>dist_3</th>\n",
       "    </tr>\n",
       "  </thead>\n",
       "  <tbody>\n",
       "    <tr>\n",
       "      <th>0</th>\n",
       "      <td>10030.jpg</td>\n",
       "      <td>10030.jpg</td>\n",
       "      <td>0</td>\n",
       "      <td>10030.jpg</td>\n",
       "      <td>89342.jpg</td>\n",
       "      <td>27298.jpg</td>\n",
       "      <td>5.893276</td>\n",
       "      <td>131.267877</td>\n",
       "      <td>154.938676</td>\n",
       "    </tr>\n",
       "    <tr>\n",
       "      <th>1</th>\n",
       "      <td>10030_1.jpg</td>\n",
       "      <td>10030.jpg</td>\n",
       "      <td>1</td>\n",
       "      <td>70268.jpg</td>\n",
       "      <td>44268.jpg</td>\n",
       "      <td>10030.jpg</td>\n",
       "      <td>228.965937</td>\n",
       "      <td>233.638028</td>\n",
       "      <td>242.024511</td>\n",
       "    </tr>\n",
       "    <tr>\n",
       "      <th>2</th>\n",
       "      <td>10030_2.jpg</td>\n",
       "      <td>10030.jpg</td>\n",
       "      <td>2</td>\n",
       "      <td>77437.jpg</td>\n",
       "      <td>72847.jpg</td>\n",
       "      <td>31992.jpg</td>\n",
       "      <td>126.592545</td>\n",
       "      <td>142.372494</td>\n",
       "      <td>147.936012</td>\n",
       "    </tr>\n",
       "    <tr>\n",
       "      <th>3</th>\n",
       "      <td>10030_3.jpg</td>\n",
       "      <td>10030.jpg</td>\n",
       "      <td>3</td>\n",
       "      <td>77819.jpg</td>\n",
       "      <td>68975.jpg</td>\n",
       "      <td>31250.jpg</td>\n",
       "      <td>308.585956</td>\n",
       "      <td>309.004729</td>\n",
       "      <td>309.731334</td>\n",
       "    </tr>\n",
       "    <tr>\n",
       "      <th>4</th>\n",
       "      <td>10030_4.jpg</td>\n",
       "      <td>10030.jpg</td>\n",
       "      <td>4</td>\n",
       "      <td>17758.jpg</td>\n",
       "      <td>75524.jpg</td>\n",
       "      <td>37977.jpg</td>\n",
       "      <td>104.355752</td>\n",
       "      <td>142.027532</td>\n",
       "      <td>148.036446</td>\n",
       "    </tr>\n",
       "    <tr>\n",
       "      <th>5</th>\n",
       "      <td>10030_5.jpg</td>\n",
       "      <td>10030.jpg</td>\n",
       "      <td>5</td>\n",
       "      <td>10030.jpg</td>\n",
       "      <td>15937.jpg</td>\n",
       "      <td>89342.jpg</td>\n",
       "      <td>60.559013</td>\n",
       "      <td>152.447506</td>\n",
       "      <td>153.601242</td>\n",
       "    </tr>\n",
       "    <tr>\n",
       "      <th>6</th>\n",
       "      <td>10030_6.jpg</td>\n",
       "      <td>10030.jpg</td>\n",
       "      <td>6</td>\n",
       "      <td>10030.jpg</td>\n",
       "      <td>89342.jpg</td>\n",
       "      <td>27298.jpg</td>\n",
       "      <td>56.480708</td>\n",
       "      <td>143.628111</td>\n",
       "      <td>149.802802</td>\n",
       "    </tr>\n",
       "    <tr>\n",
       "      <th>7</th>\n",
       "      <td>10030_7.jpg</td>\n",
       "      <td>10030.jpg</td>\n",
       "      <td>7</td>\n",
       "      <td>88628.jpg</td>\n",
       "      <td>9589.jpg</td>\n",
       "      <td>62988.jpg</td>\n",
       "      <td>141.121446</td>\n",
       "      <td>145.737502</td>\n",
       "      <td>173.861455</td>\n",
       "    </tr>\n",
       "    <tr>\n",
       "      <th>8</th>\n",
       "      <td>13171.jpg</td>\n",
       "      <td>13171.jpg</td>\n",
       "      <td>0</td>\n",
       "      <td>13171.jpg</td>\n",
       "      <td>19311.jpg</td>\n",
       "      <td>68599.jpg</td>\n",
       "      <td>32.728736</td>\n",
       "      <td>159.730631</td>\n",
       "      <td>208.188283</td>\n",
       "    </tr>\n",
       "    <tr>\n",
       "      <th>9</th>\n",
       "      <td>13171_1.jpg</td>\n",
       "      <td>13171.jpg</td>\n",
       "      <td>1</td>\n",
       "      <td>19980.jpg</td>\n",
       "      <td>13.jpg</td>\n",
       "      <td>44946.jpg</td>\n",
       "      <td>137.469947</td>\n",
       "      <td>146.512346</td>\n",
       "      <td>160.820317</td>\n",
       "    </tr>\n",
       "    <tr>\n",
       "      <th>10</th>\n",
       "      <td>13171_2.jpg</td>\n",
       "      <td>13171.jpg</td>\n",
       "      <td>2</td>\n",
       "      <td>13171.jpg</td>\n",
       "      <td>39645.jpg</td>\n",
       "      <td>32666.jpg</td>\n",
       "      <td>264.151846</td>\n",
       "      <td>264.586443</td>\n",
       "      <td>273.617815</td>\n",
       "    </tr>\n",
       "    <tr>\n",
       "      <th>11</th>\n",
       "      <td>13171_3.jpg</td>\n",
       "      <td>13171.jpg</td>\n",
       "      <td>3</td>\n",
       "      <td>13171.jpg</td>\n",
       "      <td>19311.jpg</td>\n",
       "      <td>64678.jpg</td>\n",
       "      <td>170.495268</td>\n",
       "      <td>275.409325</td>\n",
       "      <td>301.881598</td>\n",
       "    </tr>\n",
       "    <tr>\n",
       "      <th>12</th>\n",
       "      <td>13171_4.jpg</td>\n",
       "      <td>13171.jpg</td>\n",
       "      <td>4</td>\n",
       "      <td>13171.jpg</td>\n",
       "      <td>19311.jpg</td>\n",
       "      <td>68599.jpg</td>\n",
       "      <td>65.691079</td>\n",
       "      <td>167.449900</td>\n",
       "      <td>173.966662</td>\n",
       "    </tr>\n",
       "    <tr>\n",
       "      <th>13</th>\n",
       "      <td>13171_5.jpg</td>\n",
       "      <td>13171.jpg</td>\n",
       "      <td>5</td>\n",
       "      <td>13171.jpg</td>\n",
       "      <td>19311.jpg</td>\n",
       "      <td>68599.jpg</td>\n",
       "      <td>59.831131</td>\n",
       "      <td>151.234899</td>\n",
       "      <td>197.650619</td>\n",
       "    </tr>\n",
       "    <tr>\n",
       "      <th>14</th>\n",
       "      <td>13171_6.jpg</td>\n",
       "      <td>13171.jpg</td>\n",
       "      <td>6</td>\n",
       "      <td>13171.jpg</td>\n",
       "      <td>19311.jpg</td>\n",
       "      <td>68599.jpg</td>\n",
       "      <td>64.406547</td>\n",
       "      <td>180.853964</td>\n",
       "      <td>205.961600</td>\n",
       "    </tr>\n",
       "    <tr>\n",
       "      <th>15</th>\n",
       "      <td>13171_7.jpg</td>\n",
       "      <td>13171.jpg</td>\n",
       "      <td>7</td>\n",
       "      <td>13171.jpg</td>\n",
       "      <td>80282.jpg</td>\n",
       "      <td>19980.jpg</td>\n",
       "      <td>174.939356</td>\n",
       "      <td>182.852053</td>\n",
       "      <td>184.389353</td>\n",
       "    </tr>\n",
       "    <tr>\n",
       "      <th>16</th>\n",
       "      <td>14483.jpg</td>\n",
       "      <td>14483.jpg</td>\n",
       "      <td>0</td>\n",
       "      <td>14483.jpg</td>\n",
       "      <td>102067.jpg</td>\n",
       "      <td>97208.jpg</td>\n",
       "      <td>26.708893</td>\n",
       "      <td>163.120627</td>\n",
       "      <td>200.662603</td>\n",
       "    </tr>\n",
       "    <tr>\n",
       "      <th>17</th>\n",
       "      <td>14483_1.jpg</td>\n",
       "      <td>14483.jpg</td>\n",
       "      <td>1</td>\n",
       "      <td>72205.jpg</td>\n",
       "      <td>70723.jpg</td>\n",
       "      <td>14755.jpg</td>\n",
       "      <td>266.167064</td>\n",
       "      <td>294.078782</td>\n",
       "      <td>296.077932</td>\n",
       "    </tr>\n",
       "    <tr>\n",
       "      <th>18</th>\n",
       "      <td>14483_2.jpg</td>\n",
       "      <td>14483.jpg</td>\n",
       "      <td>2</td>\n",
       "      <td>8616.jpg</td>\n",
       "      <td>97208.jpg</td>\n",
       "      <td>11072.jpg</td>\n",
       "      <td>184.901024</td>\n",
       "      <td>198.524591</td>\n",
       "      <td>208.902680</td>\n",
       "    </tr>\n",
       "    <tr>\n",
       "      <th>19</th>\n",
       "      <td>14483_3.jpg</td>\n",
       "      <td>14483.jpg</td>\n",
       "      <td>3</td>\n",
       "      <td>77819.jpg</td>\n",
       "      <td>14483.jpg</td>\n",
       "      <td>32297.jpg</td>\n",
       "      <td>386.406746</td>\n",
       "      <td>392.889952</td>\n",
       "      <td>428.450146</td>\n",
       "    </tr>\n",
       "  </tbody>\n",
       "</table>\n",
       "</div>"
      ],
      "text/plain": [
       "          Label Original_image  Transform     pred_1      pred_2     pred_3  \\\n",
       "0     10030.jpg      10030.jpg          0  10030.jpg   89342.jpg  27298.jpg   \n",
       "1   10030_1.jpg      10030.jpg          1  70268.jpg   44268.jpg  10030.jpg   \n",
       "2   10030_2.jpg      10030.jpg          2  77437.jpg   72847.jpg  31992.jpg   \n",
       "3   10030_3.jpg      10030.jpg          3  77819.jpg   68975.jpg  31250.jpg   \n",
       "4   10030_4.jpg      10030.jpg          4  17758.jpg   75524.jpg  37977.jpg   \n",
       "5   10030_5.jpg      10030.jpg          5  10030.jpg   15937.jpg  89342.jpg   \n",
       "6   10030_6.jpg      10030.jpg          6  10030.jpg   89342.jpg  27298.jpg   \n",
       "7   10030_7.jpg      10030.jpg          7  88628.jpg    9589.jpg  62988.jpg   \n",
       "8     13171.jpg      13171.jpg          0  13171.jpg   19311.jpg  68599.jpg   \n",
       "9   13171_1.jpg      13171.jpg          1  19980.jpg      13.jpg  44946.jpg   \n",
       "10  13171_2.jpg      13171.jpg          2  13171.jpg   39645.jpg  32666.jpg   \n",
       "11  13171_3.jpg      13171.jpg          3  13171.jpg   19311.jpg  64678.jpg   \n",
       "12  13171_4.jpg      13171.jpg          4  13171.jpg   19311.jpg  68599.jpg   \n",
       "13  13171_5.jpg      13171.jpg          5  13171.jpg   19311.jpg  68599.jpg   \n",
       "14  13171_6.jpg      13171.jpg          6  13171.jpg   19311.jpg  68599.jpg   \n",
       "15  13171_7.jpg      13171.jpg          7  13171.jpg   80282.jpg  19980.jpg   \n",
       "16    14483.jpg      14483.jpg          0  14483.jpg  102067.jpg  97208.jpg   \n",
       "17  14483_1.jpg      14483.jpg          1  72205.jpg   70723.jpg  14755.jpg   \n",
       "18  14483_2.jpg      14483.jpg          2   8616.jpg   97208.jpg  11072.jpg   \n",
       "19  14483_3.jpg      14483.jpg          3  77819.jpg   14483.jpg  32297.jpg   \n",
       "\n",
       "        dist_1      dist_2      dist_3  \n",
       "0     5.893276  131.267877  154.938676  \n",
       "1   228.965937  233.638028  242.024511  \n",
       "2   126.592545  142.372494  147.936012  \n",
       "3   308.585956  309.004729  309.731334  \n",
       "4   104.355752  142.027532  148.036446  \n",
       "5    60.559013  152.447506  153.601242  \n",
       "6    56.480708  143.628111  149.802802  \n",
       "7   141.121446  145.737502  173.861455  \n",
       "8    32.728736  159.730631  208.188283  \n",
       "9   137.469947  146.512346  160.820317  \n",
       "10  264.151846  264.586443  273.617815  \n",
       "11  170.495268  275.409325  301.881598  \n",
       "12   65.691079  167.449900  173.966662  \n",
       "13   59.831131  151.234899  197.650619  \n",
       "14   64.406547  180.853964  205.961600  \n",
       "15  174.939356  182.852053  184.389353  \n",
       "16   26.708893  163.120627  200.662603  \n",
       "17  266.167064  294.078782  296.077932  \n",
       "18  184.901024  198.524591  208.902680  \n",
       "19  386.406746  392.889952  428.450146  "
      ]
     },
     "execution_count": 10,
     "metadata": {},
     "output_type": "execute_result"
    }
   ],
   "source": [
    "results_df.head(20)"
   ]
  },
  {
   "cell_type": "code",
   "execution_count": 11,
   "metadata": {},
   "outputs": [],
   "source": [
    "def top3_accuracy(results_df):\n",
    "    results_df2 = results_df[['Label', 'Original_image', 'Transform', 'pred_1', 'pred_2', 'pred_3']].copy()\n",
    "    results_df2['1_st'] = (results_df2['pred_1']==results_df2['Original_image'])*1\n",
    "    results_df2['2_nd'] = (results_df2['pred_2']==results_df2['Original_image'])*1\n",
    "    results_df2['3_rd'] = (results_df2['pred_3']==results_df2['Original_image'])*1\n",
    "    \n",
    "    results_df2['in_top_3'] = results_df2[['1_st', '2_nd', '3_rd']].max(axis = 1)\n",
    "    \n",
    "    print(f\"Top 3 accuracy: {results_df2['in_top_3'].sum()/len(results_df2['in_top_3']):.4f}\")\n",
    "    return results_df2\n",
    "    "
   ]
  },
  {
   "cell_type": "code",
   "execution_count": 12,
   "metadata": {},
   "outputs": [
    {
     "name": "stdout",
     "output_type": "stream",
     "text": [
      "Top 3 accuracy: 0.7025\n"
     ]
    }
   ],
   "source": [
    "results_df_top_3 = top3_accuracy(results_df)"
   ]
  },
  {
   "cell_type": "code",
   "execution_count": 13,
   "metadata": {},
   "outputs": [
    {
     "name": "stdout",
     "output_type": "stream",
     "text": [
      "Transformation method: original - Accuracy: 0.9500 - Top 3 accuracy: 0.9500\n",
      "Transformation method: crop - Accuracy: 0.2500 - Top 3 accuracy: 0.6000\n",
      "Transformation method: extend - Accuracy: 0.4000 - Top 3 accuracy: 0.5500\n",
      "Transformation method: rotate - Accuracy: 0.3500 - Top 3 accuracy: 0.5000\n",
      "Transformation method: contrast - Accuracy: 0.8000 - Top 3 accuracy: 0.8500\n",
      "Transformation method: color balance - Accuracy: 1.0000 - Top 3 accuracy: 1.0000\n",
      "Transformation method: noise - Accuracy: 0.9500 - Top 3 accuracy: 0.9500\n",
      "Transformation method: all modif - Accuracy: 0.1053 - Top 3 accuracy: 0.2105\n"
     ]
    }
   ],
   "source": [
    "transform_list = ['original', 'crop', 'extend', 'rotate', 'contrast', 'color balance', 'noise', 'all modif']\n",
    "acc_list = []\n",
    "for i, transform in enumerate(transform_list):\n",
    "    transform_results_df = results_df.loc[results_df['Transform']==i]\n",
    "    acc = accuracy_score(transform_results_df['Original_image'], transform_results_df['pred_1'])\n",
    "    acc_list.append(acc)\n",
    "    top_3_transform_results_df = results_df_top_3.loc[results_df_top_3['Transform']==i]\n",
    "    top3_acc = top_3_transform_results_df['in_top_3'].sum()/len(top_3_transform_results_df['in_top_3'])\n",
    "    print(f\"Transformation method: {transform} - Accuracy: {acc:.4f} - Top 3 accuracy: {top3_acc:.4f}\")"
   ]
  },
  {
   "cell_type": "code",
   "execution_count": null,
   "metadata": {},
   "outputs": [],
   "source": []
  },
  {
   "cell_type": "code",
   "execution_count": null,
   "metadata": {},
   "outputs": [],
   "source": []
  }
 ],
 "metadata": {
  "kernelspec": {
   "display_name": "Python 3",
   "language": "python",
   "name": "python3"
  },
  "language_info": {
   "codemirror_mode": {
    "name": "ipython",
    "version": 3
   },
   "file_extension": ".py",
   "mimetype": "text/x-python",
   "name": "python",
   "nbconvert_exporter": "python",
   "pygments_lexer": "ipython3",
   "version": "3.7.7"
  }
 },
 "nbformat": 4,
 "nbformat_minor": 4
}

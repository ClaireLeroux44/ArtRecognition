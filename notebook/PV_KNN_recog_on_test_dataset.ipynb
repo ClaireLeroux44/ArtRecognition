{
 "cells": [
  {
   "cell_type": "markdown",
   "metadata": {},
   "source": [
    "# KNN classification on test dataset (transformation of images)"
   ]
  },
  {
   "cell_type": "code",
   "execution_count": 1,
   "metadata": {},
   "outputs": [],
   "source": [
    "import numpy as np\n",
    "import pandas as pd\n",
    "import matplotlib.pyplot as plt\n",
    "import seaborn as sns\n",
    "import os\n",
    "from sklearn.metrics import accuracy_score\n",
    "from sklearn.neighbors import KNeighborsRegressor\n",
    "from tensorflow.keras.preprocessing import image_dataset_from_directory\n",
    "from tensorflow.keras import layers, models, Sequential, Input, Model\n",
    "from tensorflow.data.experimental import cardinality\n",
    "from tensorflow.data.experimental import AUTOTUNE\n",
    "from tensorflow.keras.models import load_model\n",
    "import joblib"
   ]
  },
  {
   "cell_type": "code",
   "execution_count": 2,
   "metadata": {},
   "outputs": [],
   "source": [
    "CNN_model_path = '../models/Full_training/20201212_205911_VGG16_v3_27/'\n",
    "#CNN_model_path = '../models/Full_training/20201211_202203_VGG16_v3_4/'\n",
    "images_db_dir = r'C:\\Users\\pitip\\OneDrive\\Bureau\\raw_data\\Clean_Data\\Test'\n",
    "test_dir_imext = r'C:\\Users\\pitip\\OneDrive\\Bureau\\raw_data\\Clean_Data\\Recog_test_dataset'"
   ]
  },
  {
   "cell_type": "markdown",
   "metadata": {},
   "source": [
    "# KNN model preparation\n",
    "- load CNN model\n",
    "- prepare DB for KNN fit\n",
    "- get embedding"
   ]
  },
  {
   "cell_type": "code",
   "execution_count": 3,
   "metadata": {},
   "outputs": [
    {
     "name": "stdout",
     "output_type": "stream",
     "text": [
      "WARNING:tensorflow:SavedModel saved prior to TF 2.4 detected when loading Keras model. Please ensure that you are saving the model with model.save() or tf.keras.models.save_model(), *NOT* tf.saved_model.save(). To confirm, there should be a file named \"keras_metadata.pb\" in the SavedModel directory.\n"
     ]
    }
   ],
   "source": [
    "model = load_model(CNN_model_path)"
   ]
  },
  {
   "cell_type": "code",
   "execution_count": 4,
   "metadata": {},
   "outputs": [
    {
     "name": "stdout",
     "output_type": "stream",
     "text": [
      "Found 1390 files belonging to 12 classes.\n",
      "Wall time: 5min 42s\n"
     ]
    },
    {
     "data": {
      "text/plain": [
       "(1390, 400)"
      ]
     },
     "execution_count": 4,
     "metadata": {},
     "output_type": "execute_result"
    }
   ],
   "source": [
    "%%time\n",
    "\n",
    "BATCH_SIZE = 32\n",
    "IMG_SIZE = (224, 224)\n",
    "\n",
    "layer_outputs = [model.layers[-1].input]\n",
    "embedding_model = models.Model(inputs=model.input, outputs=layer_outputs)\n",
    "\n",
    "img_list = []\n",
    "for dir_path in os.listdir(images_db_dir):\n",
    "    img_list += os.listdir(os.path.join(images_db_dir, dir_path))\n",
    "\n",
    "test_dataset = image_dataset_from_directory(images_db_dir, shuffle=False, batch_size=BATCH_SIZE, image_size=IMG_SIZE, label_mode='int', \n",
    "                                             labels=img_list, interpolation='bilinear')\n",
    "\n",
    "image_embeddings = embedding_model.predict(test_dataset)\n",
    "image_embeddings.shape"
   ]
  },
  {
   "cell_type": "code",
   "execution_count": 5,
   "metadata": {},
   "outputs": [
    {
     "data": {
      "text/plain": [
       "KNeighborsRegressor(n_neighbors=1)"
      ]
     },
     "execution_count": 5,
     "metadata": {},
     "output_type": "execute_result"
    }
   ],
   "source": [
    "knr = KNeighborsRegressor(n_neighbors=1)\n",
    "knr.fit(image_embeddings, img_list)"
   ]
  },
  {
   "cell_type": "markdown",
   "metadata": {},
   "source": [
    "## KNN prediction"
   ]
  },
  {
   "cell_type": "code",
   "execution_count": 6,
   "metadata": {},
   "outputs": [
    {
     "name": "stdout",
     "output_type": "stream",
     "text": [
      "Found 158 files belonging to 1 classes.\n",
      "Wall time: 37.4 s\n"
     ]
    },
    {
     "data": {
      "text/plain": [
       "(158, 400)"
      ]
     },
     "execution_count": 6,
     "metadata": {},
     "output_type": "execute_result"
    }
   ],
   "source": [
    "%%time\n",
    "img_list_imext = []\n",
    "for dir_path in os.listdir(test_dir_imext):\n",
    "    img_list_imext += os.listdir(os.path.join(test_dir_imext, dir_path))\n",
    "test_dataset_imext = image_dataset_from_directory(test_dir_imext, shuffle=False, batch_size=BATCH_SIZE, image_size=IMG_SIZE, label_mode='int', \n",
    "                                             labels=img_list_imext, interpolation='bilinear')\n",
    "\n",
    "\n",
    "#print(img_list_imext)\n",
    "image_embeddings_imext = embedding_model.predict(test_dataset_imext)\n",
    "image_embeddings_imext.shape"
   ]
  },
  {
   "cell_type": "code",
   "execution_count": 7,
   "metadata": {},
   "outputs": [],
   "source": [
    "pred_1 = []\n",
    "dist_1 = []\n",
    "pred_2 = []\n",
    "dist_2 = []\n",
    "pred_3 = []\n",
    "dist_3 = []\n",
    "for i in range(len(img_list_imext)):\n",
    "    dist, pred_label = knr.kneighbors(X=image_embeddings_imext[i,:].reshape(1, -1), n_neighbors=3, return_distance=True)\n",
    "    pred_1.append(img_list[pred_label[0][0]])\n",
    "    pred_2.append(img_list[pred_label[0][1]])\n",
    "    pred_3.append(img_list[pred_label[0][2]])\n",
    "    dist_1.append(dist[0][0])\n",
    "    dist_2.append(dist[0][1])\n",
    "    dist_3.append(dist[0][2])"
   ]
  },
  {
   "cell_type": "code",
   "execution_count": 8,
   "metadata": {},
   "outputs": [
    {
     "data": {
      "text/html": [
       "<div>\n",
       "<style scoped>\n",
       "    .dataframe tbody tr th:only-of-type {\n",
       "        vertical-align: middle;\n",
       "    }\n",
       "\n",
       "    .dataframe tbody tr th {\n",
       "        vertical-align: top;\n",
       "    }\n",
       "\n",
       "    .dataframe thead th {\n",
       "        text-align: right;\n",
       "    }\n",
       "</style>\n",
       "<table border=\"1\" class=\"dataframe\">\n",
       "  <thead>\n",
       "    <tr style=\"text-align: right;\">\n",
       "      <th></th>\n",
       "      <th>Label</th>\n",
       "      <th>Original_image</th>\n",
       "      <th>Transform</th>\n",
       "      <th>pred_1</th>\n",
       "      <th>pred_2</th>\n",
       "      <th>pred_3</th>\n",
       "      <th>dist_1</th>\n",
       "      <th>dist_2</th>\n",
       "      <th>dist_3</th>\n",
       "    </tr>\n",
       "  </thead>\n",
       "  <tbody>\n",
       "    <tr>\n",
       "      <th>0</th>\n",
       "      <td>10030.jpg</td>\n",
       "      <td>10030.jpg</td>\n",
       "      <td>0</td>\n",
       "      <td>10030.jpg</td>\n",
       "      <td>99482.jpg</td>\n",
       "      <td>69562.jpg</td>\n",
       "      <td>0.232015</td>\n",
       "      <td>3.994799</td>\n",
       "      <td>4.687160</td>\n",
       "    </tr>\n",
       "    <tr>\n",
       "      <th>1</th>\n",
       "      <td>10030_1.jpg</td>\n",
       "      <td>10030.jpg</td>\n",
       "      <td>1</td>\n",
       "      <td>10030.jpg</td>\n",
       "      <td>99482.jpg</td>\n",
       "      <td>91143.jpg</td>\n",
       "      <td>5.505867</td>\n",
       "      <td>5.720191</td>\n",
       "      <td>5.729329</td>\n",
       "    </tr>\n",
       "    <tr>\n",
       "      <th>2</th>\n",
       "      <td>10030_2.jpg</td>\n",
       "      <td>10030.jpg</td>\n",
       "      <td>2</td>\n",
       "      <td>51451.jpg</td>\n",
       "      <td>7391.jpg</td>\n",
       "      <td>99482.jpg</td>\n",
       "      <td>5.209195</td>\n",
       "      <td>5.271850</td>\n",
       "      <td>5.345070</td>\n",
       "    </tr>\n",
       "    <tr>\n",
       "      <th>3</th>\n",
       "      <td>10030_3.jpg</td>\n",
       "      <td>10030.jpg</td>\n",
       "      <td>3</td>\n",
       "      <td>4825.jpg</td>\n",
       "      <td>22335.jpg</td>\n",
       "      <td>75701.jpg</td>\n",
       "      <td>5.173648</td>\n",
       "      <td>5.554562</td>\n",
       "      <td>5.694982</td>\n",
       "    </tr>\n",
       "    <tr>\n",
       "      <th>4</th>\n",
       "      <td>10030_4.jpg</td>\n",
       "      <td>10030.jpg</td>\n",
       "      <td>4</td>\n",
       "      <td>10030.jpg</td>\n",
       "      <td>99482.jpg</td>\n",
       "      <td>69562.jpg</td>\n",
       "      <td>1.777897</td>\n",
       "      <td>4.237323</td>\n",
       "      <td>5.001415</td>\n",
       "    </tr>\n",
       "  </tbody>\n",
       "</table>\n",
       "</div>"
      ],
      "text/plain": [
       "         Label Original_image  Transform     pred_1     pred_2     pred_3  \\\n",
       "0    10030.jpg      10030.jpg          0  10030.jpg  99482.jpg  69562.jpg   \n",
       "1  10030_1.jpg      10030.jpg          1  10030.jpg  99482.jpg  91143.jpg   \n",
       "2  10030_2.jpg      10030.jpg          2  51451.jpg   7391.jpg  99482.jpg   \n",
       "3  10030_3.jpg      10030.jpg          3   4825.jpg  22335.jpg  75701.jpg   \n",
       "4  10030_4.jpg      10030.jpg          4  10030.jpg  99482.jpg  69562.jpg   \n",
       "\n",
       "     dist_1    dist_2    dist_3  \n",
       "0  0.232015  3.994799  4.687160  \n",
       "1  5.505867  5.720191  5.729329  \n",
       "2  5.209195  5.271850  5.345070  \n",
       "3  5.173648  5.554562  5.694982  \n",
       "4  1.777897  4.237323  5.001415  "
      ]
     },
     "execution_count": 8,
     "metadata": {},
     "output_type": "execute_result"
    }
   ],
   "source": [
    "results_df = pd.DataFrame({'Label': img_list_imext, 'Original_image': [os.path.splitext(s)[0].split('_')[0]+'.jpg' for s in img_list_imext],\n",
    "                           'Transform':[int(os.path.splitext(s)[0].split('_')[-1]) if len(os.path.splitext(s)[0].split('_'))==2 else 0 for s in img_list_imext], 'pred_1':pred_1,'pred_2':pred_2,\n",
    "                            'pred_3':pred_3, 'dist_1':dist_1, 'dist_2':dist_2, 'dist_3':dist_3})\n",
    "results_df.head()"
   ]
  },
  {
   "cell_type": "code",
   "execution_count": 9,
   "metadata": {},
   "outputs": [
    {
     "data": {
      "text/plain": [
       "0.7215189873417721"
      ]
     },
     "execution_count": 9,
     "metadata": {},
     "output_type": "execute_result"
    }
   ],
   "source": [
    "accuracy_score(results_df['Original_image'], results_df['pred_1'])"
   ]
  },
  {
   "cell_type": "code",
   "execution_count": 10,
   "metadata": {},
   "outputs": [
    {
     "data": {
      "text/html": [
       "<div>\n",
       "<style scoped>\n",
       "    .dataframe tbody tr th:only-of-type {\n",
       "        vertical-align: middle;\n",
       "    }\n",
       "\n",
       "    .dataframe tbody tr th {\n",
       "        vertical-align: top;\n",
       "    }\n",
       "\n",
       "    .dataframe thead th {\n",
       "        text-align: right;\n",
       "    }\n",
       "</style>\n",
       "<table border=\"1\" class=\"dataframe\">\n",
       "  <thead>\n",
       "    <tr style=\"text-align: right;\">\n",
       "      <th></th>\n",
       "      <th>Label</th>\n",
       "      <th>Original_image</th>\n",
       "      <th>Transform</th>\n",
       "      <th>pred_1</th>\n",
       "      <th>pred_2</th>\n",
       "      <th>pred_3</th>\n",
       "      <th>dist_1</th>\n",
       "      <th>dist_2</th>\n",
       "      <th>dist_3</th>\n",
       "    </tr>\n",
       "  </thead>\n",
       "  <tbody>\n",
       "    <tr>\n",
       "      <th>0</th>\n",
       "      <td>10030.jpg</td>\n",
       "      <td>10030.jpg</td>\n",
       "      <td>0</td>\n",
       "      <td>10030.jpg</td>\n",
       "      <td>99482.jpg</td>\n",
       "      <td>69562.jpg</td>\n",
       "      <td>0.232015</td>\n",
       "      <td>3.994799</td>\n",
       "      <td>4.687160</td>\n",
       "    </tr>\n",
       "    <tr>\n",
       "      <th>1</th>\n",
       "      <td>10030_1.jpg</td>\n",
       "      <td>10030.jpg</td>\n",
       "      <td>1</td>\n",
       "      <td>10030.jpg</td>\n",
       "      <td>99482.jpg</td>\n",
       "      <td>91143.jpg</td>\n",
       "      <td>5.505867</td>\n",
       "      <td>5.720191</td>\n",
       "      <td>5.729329</td>\n",
       "    </tr>\n",
       "    <tr>\n",
       "      <th>2</th>\n",
       "      <td>10030_2.jpg</td>\n",
       "      <td>10030.jpg</td>\n",
       "      <td>2</td>\n",
       "      <td>51451.jpg</td>\n",
       "      <td>7391.jpg</td>\n",
       "      <td>99482.jpg</td>\n",
       "      <td>5.209195</td>\n",
       "      <td>5.271850</td>\n",
       "      <td>5.345070</td>\n",
       "    </tr>\n",
       "    <tr>\n",
       "      <th>3</th>\n",
       "      <td>10030_3.jpg</td>\n",
       "      <td>10030.jpg</td>\n",
       "      <td>3</td>\n",
       "      <td>4825.jpg</td>\n",
       "      <td>22335.jpg</td>\n",
       "      <td>75701.jpg</td>\n",
       "      <td>5.173648</td>\n",
       "      <td>5.554562</td>\n",
       "      <td>5.694982</td>\n",
       "    </tr>\n",
       "    <tr>\n",
       "      <th>4</th>\n",
       "      <td>10030_4.jpg</td>\n",
       "      <td>10030.jpg</td>\n",
       "      <td>4</td>\n",
       "      <td>10030.jpg</td>\n",
       "      <td>99482.jpg</td>\n",
       "      <td>69562.jpg</td>\n",
       "      <td>1.777897</td>\n",
       "      <td>4.237323</td>\n",
       "      <td>5.001415</td>\n",
       "    </tr>\n",
       "  </tbody>\n",
       "</table>\n",
       "</div>"
      ],
      "text/plain": [
       "         Label Original_image  Transform     pred_1     pred_2     pred_3  \\\n",
       "0    10030.jpg      10030.jpg          0  10030.jpg  99482.jpg  69562.jpg   \n",
       "1  10030_1.jpg      10030.jpg          1  10030.jpg  99482.jpg  91143.jpg   \n",
       "2  10030_2.jpg      10030.jpg          2  51451.jpg   7391.jpg  99482.jpg   \n",
       "3  10030_3.jpg      10030.jpg          3   4825.jpg  22335.jpg  75701.jpg   \n",
       "4  10030_4.jpg      10030.jpg          4  10030.jpg  99482.jpg  69562.jpg   \n",
       "\n",
       "     dist_1    dist_2    dist_3  \n",
       "0  0.232015  3.994799  4.687160  \n",
       "1  5.505867  5.720191  5.729329  \n",
       "2  5.209195  5.271850  5.345070  \n",
       "3  5.173648  5.554562  5.694982  \n",
       "4  1.777897  4.237323  5.001415  "
      ]
     },
     "execution_count": 10,
     "metadata": {},
     "output_type": "execute_result"
    }
   ],
   "source": [
    "results_df.head(5)"
   ]
  },
  {
   "cell_type": "code",
   "execution_count": 11,
   "metadata": {},
   "outputs": [],
   "source": [
    "def top3_accuracy(results_df):\n",
    "    results_df2 = results_df[['Label', 'Original_image', 'Transform', 'pred_1', 'pred_2', 'pred_3']].copy()\n",
    "    results_df2['1_st'] = (results_df2['pred_1']==results_df2['Original_image'])*1\n",
    "    results_df2['2_nd'] = (results_df2['pred_2']==results_df2['Original_image'])*1\n",
    "    results_df2['3_rd'] = (results_df2['pred_3']==results_df2['Original_image'])*1\n",
    "    \n",
    "    results_df2['in_top_3'] = results_df2[['1_st', '2_nd', '3_rd']].max(axis = 1)\n",
    "    \n",
    "    print(f\"Top 3 accuracy: {results_df2['in_top_3'].sum()/len(results_df2['in_top_3']):.4f}\")\n",
    "    return results_df2\n",
    "    "
   ]
  },
  {
   "cell_type": "code",
   "execution_count": 12,
   "metadata": {},
   "outputs": [
    {
     "name": "stdout",
     "output_type": "stream",
     "text": [
      "Top 3 accuracy: 0.7848\n"
     ]
    }
   ],
   "source": [
    "results_df_top_3 = top3_accuracy(results_df)"
   ]
  },
  {
   "cell_type": "code",
   "execution_count": 13,
   "metadata": {},
   "outputs": [
    {
     "name": "stdout",
     "output_type": "stream",
     "text": [
      "Transformation method: original - Accuracy: 0.9500 - Top 3 accuracy: 0.9500\n",
      "Transformation method: crop - Accuracy: 0.5500 - Top 3 accuracy: 0.7000\n",
      "Transformation method: extend - Accuracy: 0.4000 - Top 3 accuracy: 0.5500\n",
      "Transformation method: rotate - Accuracy: 0.6000 - Top 3 accuracy: 0.6500\n",
      "Transformation method: contrast - Accuracy: 0.9500 - Top 3 accuracy: 0.9500\n",
      "Transformation method: color balance - Accuracy: 1.0000 - Top 3 accuracy: 1.0000\n",
      "Transformation method: noise - Accuracy: 0.9500 - Top 3 accuracy: 0.9500\n",
      "Transformation method: all modif - Accuracy: 0.3684 - Top 3 accuracy: 0.5263\n"
     ]
    }
   ],
   "source": [
    "transform_list = ['original', 'crop', 'extend', 'rotate', 'contrast', 'color balance', 'noise', 'all modif']\n",
    "acc_list = []\n",
    "for i, transform in enumerate(transform_list):\n",
    "    transform_results_df = results_df.loc[results_df['Transform']==i]\n",
    "    acc = accuracy_score(transform_results_df['Original_image'], transform_results_df['pred_1'])\n",
    "    acc_list.append(acc)\n",
    "    top_3_transform_results_df = results_df_top_3.loc[results_df_top_3['Transform']==i]\n",
    "    top3_acc = top_3_transform_results_df['in_top_3'].sum()/len(top_3_transform_results_df['in_top_3'])\n",
    "    print(f\"Transformation method: {transform} - Accuracy: {acc:.4f} - Top 3 accuracy: {top3_acc:.4f}\")"
   ]
  },
  {
   "cell_type": "code",
   "execution_count": null,
   "metadata": {},
   "outputs": [],
   "source": []
  },
  {
   "cell_type": "code",
   "execution_count": null,
   "metadata": {},
   "outputs": [],
   "source": []
  }
 ],
 "metadata": {
  "kernelspec": {
   "display_name": "Python 3",
   "language": "python",
   "name": "python3"
  },
  "language_info": {
   "codemirror_mode": {
    "name": "ipython",
    "version": 3
   },
   "file_extension": ".py",
   "mimetype": "text/x-python",
   "name": "python",
   "nbconvert_exporter": "python",
   "pygments_lexer": "ipython3",
   "version": "3.7.7"
  }
 },
 "nbformat": 4,
 "nbformat_minor": 4
}

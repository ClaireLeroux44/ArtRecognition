{
 "cells": [
  {
   "cell_type": "code",
   "execution_count": 54,
   "metadata": {},
   "outputs": [],
   "source": [
    "import numpy as np\n",
    "import pandas as pd\n",
    "import matplotlib.pyplot as plt\n",
    "import seaborn as sns\n",
    "import os\n",
    "from django.template.defaultfilters import slugify"
   ]
  },
  {
   "cell_type": "code",
   "execution_count": 55,
   "metadata": {},
   "outputs": [
    {
     "data": {
      "text/plain": [
       "'/Users/raph/code/R-a-p-h-a-e-l/Projet/ArtRecognition'"
      ]
     },
     "execution_count": 55,
     "metadata": {},
     "output_type": "execute_result"
    }
   ],
   "source": [
    "root_path = os.path.dirname(os.getcwd())\n",
    "root_path"
   ]
  },
  {
   "cell_type": "code",
   "execution_count": 56,
   "metadata": {},
   "outputs": [
    {
     "data": {
      "text/plain": [
       "'/Users/raph/code/R-a-p-h-a-e-l/Projet/ArtRecognition/ArtRecognition/data/all_data_info.csv'"
      ]
     },
     "execution_count": 56,
     "metadata": {},
     "output_type": "execute_result"
    }
   ],
   "source": [
    "link = os.path.join(root_path,'ArtRecognition', 'data','all_data_info.csv')\n",
    "link"
   ]
  },
  {
   "cell_type": "code",
   "execution_count": 214,
   "metadata": {
    "scrolled": true
   },
   "outputs": [
    {
     "data": {
      "text/html": [
       "<div>\n",
       "<style scoped>\n",
       "    .dataframe tbody tr th:only-of-type {\n",
       "        vertical-align: middle;\n",
       "    }\n",
       "\n",
       "    .dataframe tbody tr th {\n",
       "        vertical-align: top;\n",
       "    }\n",
       "\n",
       "    .dataframe thead th {\n",
       "        text-align: right;\n",
       "    }\n",
       "</style>\n",
       "<table border=\"1\" class=\"dataframe\">\n",
       "  <thead>\n",
       "    <tr style=\"text-align: right;\">\n",
       "      <th></th>\n",
       "      <th>artist</th>\n",
       "      <th>date</th>\n",
       "      <th>genre</th>\n",
       "      <th>pixelsx</th>\n",
       "      <th>pixelsy</th>\n",
       "      <th>size_bytes</th>\n",
       "      <th>source</th>\n",
       "      <th>style</th>\n",
       "      <th>title</th>\n",
       "      <th>artist_group</th>\n",
       "      <th>in_train</th>\n",
       "      <th>new_filename</th>\n",
       "    </tr>\n",
       "  </thead>\n",
       "  <tbody>\n",
       "    <tr>\n",
       "      <th>0</th>\n",
       "      <td>Barnett Newman</td>\n",
       "      <td>1955.0</td>\n",
       "      <td>abstract</td>\n",
       "      <td>15530.0</td>\n",
       "      <td>6911.0</td>\n",
       "      <td>9201912.0</td>\n",
       "      <td>wikiart</td>\n",
       "      <td>Color Field Painting</td>\n",
       "      <td>Uriel</td>\n",
       "      <td>train_only</td>\n",
       "      <td>True</td>\n",
       "      <td>102257.jpg</td>\n",
       "    </tr>\n",
       "    <tr>\n",
       "      <th>1</th>\n",
       "      <td>Barnett Newman</td>\n",
       "      <td>1950.0</td>\n",
       "      <td>abstract</td>\n",
       "      <td>14559.0</td>\n",
       "      <td>6866.0</td>\n",
       "      <td>8867532.0</td>\n",
       "      <td>wikiart</td>\n",
       "      <td>Color Field Painting</td>\n",
       "      <td>Vir Heroicus Sublimis</td>\n",
       "      <td>train_only</td>\n",
       "      <td>True</td>\n",
       "      <td>75232.jpg</td>\n",
       "    </tr>\n",
       "    <tr>\n",
       "      <th>2</th>\n",
       "      <td>kiri nichol</td>\n",
       "      <td>2013.0</td>\n",
       "      <td>NaN</td>\n",
       "      <td>9003.0</td>\n",
       "      <td>9004.0</td>\n",
       "      <td>1756681.0</td>\n",
       "      <td>NaN</td>\n",
       "      <td>Neoplasticism</td>\n",
       "      <td>NaN</td>\n",
       "      <td>test_only</td>\n",
       "      <td>False</td>\n",
       "      <td>32145.jpg</td>\n",
       "    </tr>\n",
       "    <tr>\n",
       "      <th>3</th>\n",
       "      <td>kiri nichol</td>\n",
       "      <td>2013.0</td>\n",
       "      <td>NaN</td>\n",
       "      <td>9003.0</td>\n",
       "      <td>9004.0</td>\n",
       "      <td>1942046.0</td>\n",
       "      <td>NaN</td>\n",
       "      <td>Neoplasticism</td>\n",
       "      <td>NaN</td>\n",
       "      <td>test_only</td>\n",
       "      <td>False</td>\n",
       "      <td>20304.jpg</td>\n",
       "    </tr>\n",
       "    <tr>\n",
       "      <th>4</th>\n",
       "      <td>kiri nichol</td>\n",
       "      <td>2013.0</td>\n",
       "      <td>NaN</td>\n",
       "      <td>9003.0</td>\n",
       "      <td>9004.0</td>\n",
       "      <td>1526212.0</td>\n",
       "      <td>NaN</td>\n",
       "      <td>Neoplasticism</td>\n",
       "      <td>NaN</td>\n",
       "      <td>test_only</td>\n",
       "      <td>False</td>\n",
       "      <td>836.jpg</td>\n",
       "    </tr>\n",
       "  </tbody>\n",
       "</table>\n",
       "</div>"
      ],
      "text/plain": [
       "           artist    date     genre  pixelsx  pixelsy  size_bytes   source  \\\n",
       "0  Barnett Newman  1955.0  abstract  15530.0   6911.0   9201912.0  wikiart   \n",
       "1  Barnett Newman  1950.0  abstract  14559.0   6866.0   8867532.0  wikiart   \n",
       "2     kiri nichol  2013.0       NaN   9003.0   9004.0   1756681.0      NaN   \n",
       "3     kiri nichol  2013.0       NaN   9003.0   9004.0   1942046.0      NaN   \n",
       "4     kiri nichol  2013.0       NaN   9003.0   9004.0   1526212.0      NaN   \n",
       "\n",
       "                  style                  title artist_group  in_train  \\\n",
       "0  Color Field Painting                  Uriel   train_only      True   \n",
       "1  Color Field Painting  Vir Heroicus Sublimis   train_only      True   \n",
       "2         Neoplasticism                    NaN    test_only     False   \n",
       "3         Neoplasticism                    NaN    test_only     False   \n",
       "4         Neoplasticism                    NaN    test_only     False   \n",
       "\n",
       "  new_filename  \n",
       "0   102257.jpg  \n",
       "1    75232.jpg  \n",
       "2    32145.jpg  \n",
       "3    20304.jpg  \n",
       "4      836.jpg  "
      ]
     },
     "execution_count": 214,
     "metadata": {},
     "output_type": "execute_result"
    }
   ],
   "source": [
    "#dff = pd.read_csv(link)\n",
    "#df = dff.copy()\n",
    "#df.head()\n",
    "\n",
    "def get_df(link):\n",
    "    return pd.read_csv(link)\n",
    "    \n",
    "df = get_df(link)\n",
    "df.head()"
   ]
  },
  {
   "cell_type": "code",
   "execution_count": 295,
   "metadata": {},
   "outputs": [],
   "source": [
    "def formatting_google(txt):\n",
    "    txt = str(txt)\n",
    "    txt = txt.lstrip()\n",
    "    txt = txt.rstrip()\n",
    "    txt = txt.replace(' ',\"+\")\n",
    "    return txt\n",
    "\n",
    "def formatting_data(df):\n",
    "    \n",
    "    df[\"artist_format\"] = df['artist'].str.lower()\n",
    "    df[\"artist_format\"] = df.artist_format.apply(slugify)\n",
    "    \n",
    "    df[\"title_format\"] = df['title'].str.lower()\n",
    "    \n",
    "    # Year\n",
    "    df[\"date\"] = df['date'].str[:4]\n",
    "    \n",
    "    df['url'] = \"https://www.wikiart.org/fr/\"\n",
    "    df[\"g_url\"] = df['artist'].str.lower()\n",
    "    \n",
    "    if df[\"title_format\"].empty==False:\n",
    "        df[\"title_format\"] = df.title_format.apply(slugify)\n",
    "        df[\"title_format\"] = df.title_format + ' ' + df[\"date\"]\n",
    "        df[\"title_format\"] = df.title_format.apply(slugify)\n",
    "        \n",
    "        df['url'] = df['url'] + df['artist_format'] + \"/\" + df[\"title_format\"]\n",
    "\n",
    "        df[\"g_url\"] = df['g_url'] + ' ' + df['title']\n",
    "    \n",
    "    df[\"g_url\"] = df.g_url.apply(formatting_google)\n",
    "    \n",
    "    return df"
   ]
  },
  {
   "cell_type": "code",
   "execution_count": 296,
   "metadata": {},
   "outputs": [
    {
     "data": {
      "text/html": [
       "<div>\n",
       "<style scoped>\n",
       "    .dataframe tbody tr th:only-of-type {\n",
       "        vertical-align: middle;\n",
       "    }\n",
       "\n",
       "    .dataframe tbody tr th {\n",
       "        vertical-align: top;\n",
       "    }\n",
       "\n",
       "    .dataframe thead th {\n",
       "        text-align: right;\n",
       "    }\n",
       "</style>\n",
       "<table border=\"1\" class=\"dataframe\">\n",
       "  <thead>\n",
       "    <tr style=\"text-align: right;\">\n",
       "      <th></th>\n",
       "      <th>artist</th>\n",
       "      <th>date</th>\n",
       "      <th>genre</th>\n",
       "      <th>pixelsx</th>\n",
       "      <th>pixelsy</th>\n",
       "      <th>size_bytes</th>\n",
       "      <th>source</th>\n",
       "      <th>style</th>\n",
       "      <th>title</th>\n",
       "      <th>artist_group</th>\n",
       "      <th>in_train</th>\n",
       "      <th>new_filename</th>\n",
       "      <th>artist_format</th>\n",
       "      <th>title_format</th>\n",
       "      <th>url</th>\n",
       "      <th>g_url</th>\n",
       "    </tr>\n",
       "  </thead>\n",
       "  <tbody>\n",
       "    <tr>\n",
       "      <th>0</th>\n",
       "      <td>Barnett Newman</td>\n",
       "      <td>1955</td>\n",
       "      <td>abstract</td>\n",
       "      <td>15530.0</td>\n",
       "      <td>6911.0</td>\n",
       "      <td>9201912.0</td>\n",
       "      <td>wikiart</td>\n",
       "      <td>Color Field Painting</td>\n",
       "      <td>Uriel</td>\n",
       "      <td>train_only</td>\n",
       "      <td>True</td>\n",
       "      <td>102257.jpg</td>\n",
       "      <td>barnett-newman</td>\n",
       "      <td>uriel-1955</td>\n",
       "      <td>https://www.wikiart.org/fr/barnett-newman/urie...</td>\n",
       "      <td>barnett+newman+Uriel</td>\n",
       "    </tr>\n",
       "    <tr>\n",
       "      <th>1</th>\n",
       "      <td>Barnett Newman</td>\n",
       "      <td>1950</td>\n",
       "      <td>abstract</td>\n",
       "      <td>14559.0</td>\n",
       "      <td>6866.0</td>\n",
       "      <td>8867532.0</td>\n",
       "      <td>wikiart</td>\n",
       "      <td>Color Field Painting</td>\n",
       "      <td>Vir Heroicus Sublimis</td>\n",
       "      <td>train_only</td>\n",
       "      <td>True</td>\n",
       "      <td>75232.jpg</td>\n",
       "      <td>barnett-newman</td>\n",
       "      <td>vir-heroicus-sublimis-1950</td>\n",
       "      <td>https://www.wikiart.org/fr/barnett-newman/vir-...</td>\n",
       "      <td>barnett+newman+Vir+Heroicus+Sublimis</td>\n",
       "    </tr>\n",
       "    <tr>\n",
       "      <th>2</th>\n",
       "      <td>kiri nichol</td>\n",
       "      <td>2013</td>\n",
       "      <td>NaN</td>\n",
       "      <td>9003.0</td>\n",
       "      <td>9004.0</td>\n",
       "      <td>1756681.0</td>\n",
       "      <td>NaN</td>\n",
       "      <td>Neoplasticism</td>\n",
       "      <td>NaN</td>\n",
       "      <td>test_only</td>\n",
       "      <td>False</td>\n",
       "      <td>32145.jpg</td>\n",
       "      <td>kiri-nichol</td>\n",
       "      <td>nan-2013</td>\n",
       "      <td>https://www.wikiart.org/fr/kiri-nichol/nan-2013</td>\n",
       "      <td>nan</td>\n",
       "    </tr>\n",
       "    <tr>\n",
       "      <th>3</th>\n",
       "      <td>kiri nichol</td>\n",
       "      <td>2013</td>\n",
       "      <td>NaN</td>\n",
       "      <td>9003.0</td>\n",
       "      <td>9004.0</td>\n",
       "      <td>1942046.0</td>\n",
       "      <td>NaN</td>\n",
       "      <td>Neoplasticism</td>\n",
       "      <td>NaN</td>\n",
       "      <td>test_only</td>\n",
       "      <td>False</td>\n",
       "      <td>20304.jpg</td>\n",
       "      <td>kiri-nichol</td>\n",
       "      <td>nan-2013</td>\n",
       "      <td>https://www.wikiart.org/fr/kiri-nichol/nan-2013</td>\n",
       "      <td>nan</td>\n",
       "    </tr>\n",
       "    <tr>\n",
       "      <th>4</th>\n",
       "      <td>kiri nichol</td>\n",
       "      <td>2013</td>\n",
       "      <td>NaN</td>\n",
       "      <td>9003.0</td>\n",
       "      <td>9004.0</td>\n",
       "      <td>1526212.0</td>\n",
       "      <td>NaN</td>\n",
       "      <td>Neoplasticism</td>\n",
       "      <td>NaN</td>\n",
       "      <td>test_only</td>\n",
       "      <td>False</td>\n",
       "      <td>836.jpg</td>\n",
       "      <td>kiri-nichol</td>\n",
       "      <td>nan-2013</td>\n",
       "      <td>https://www.wikiart.org/fr/kiri-nichol/nan-2013</td>\n",
       "      <td>nan</td>\n",
       "    </tr>\n",
       "  </tbody>\n",
       "</table>\n",
       "</div>"
      ],
      "text/plain": [
       "           artist  date     genre  pixelsx  pixelsy  size_bytes   source  \\\n",
       "0  Barnett Newman  1955  abstract  15530.0   6911.0   9201912.0  wikiart   \n",
       "1  Barnett Newman  1950  abstract  14559.0   6866.0   8867532.0  wikiart   \n",
       "2     kiri nichol  2013       NaN   9003.0   9004.0   1756681.0      NaN   \n",
       "3     kiri nichol  2013       NaN   9003.0   9004.0   1942046.0      NaN   \n",
       "4     kiri nichol  2013       NaN   9003.0   9004.0   1526212.0      NaN   \n",
       "\n",
       "                  style                  title artist_group  in_train  \\\n",
       "0  Color Field Painting                  Uriel   train_only      True   \n",
       "1  Color Field Painting  Vir Heroicus Sublimis   train_only      True   \n",
       "2         Neoplasticism                    NaN    test_only     False   \n",
       "3         Neoplasticism                    NaN    test_only     False   \n",
       "4         Neoplasticism                    NaN    test_only     False   \n",
       "\n",
       "  new_filename   artist_format                title_format  \\\n",
       "0   102257.jpg  barnett-newman                  uriel-1955   \n",
       "1    75232.jpg  barnett-newman  vir-heroicus-sublimis-1950   \n",
       "2    32145.jpg     kiri-nichol                    nan-2013   \n",
       "3    20304.jpg     kiri-nichol                    nan-2013   \n",
       "4      836.jpg     kiri-nichol                    nan-2013   \n",
       "\n",
       "                                                 url  \\\n",
       "0  https://www.wikiart.org/fr/barnett-newman/urie...   \n",
       "1  https://www.wikiart.org/fr/barnett-newman/vir-...   \n",
       "2    https://www.wikiart.org/fr/kiri-nichol/nan-2013   \n",
       "3    https://www.wikiart.org/fr/kiri-nichol/nan-2013   \n",
       "4    https://www.wikiart.org/fr/kiri-nichol/nan-2013   \n",
       "\n",
       "                                  g_url  \n",
       "0                  barnett+newman+Uriel  \n",
       "1  barnett+newman+Vir+Heroicus+Sublimis  \n",
       "2                                   nan  \n",
       "3                                   nan  \n",
       "4                                   nan  "
      ]
     },
     "execution_count": 296,
     "metadata": {},
     "output_type": "execute_result"
    }
   ],
   "source": [
    "df = formatting_data(df)\n",
    "df.head()"
   ]
  },
  {
   "cell_type": "code",
   "execution_count": null,
   "metadata": {},
   "outputs": [],
   "source": [
    "#df['date_format'] = \"-\" + df[\"date\"]"
   ]
  },
  {
   "cell_type": "code",
   "execution_count": 69,
   "metadata": {},
   "outputs": [],
   "source": [
    "#df['source'].nunique"
   ]
  },
  {
   "cell_type": "code",
   "execution_count": 42,
   "metadata": {},
   "outputs": [],
   "source": [
    "#df['url'] = \"https://www.wikiart.org/fr/\" + df['artist_format'] + \"/\" + df[\"title_format\"]\n"
   ]
  },
  {
   "cell_type": "code",
   "execution_count": 70,
   "metadata": {},
   "outputs": [],
   "source": [
    "#df['url'].tail(30)"
   ]
  },
  {
   "cell_type": "code",
   "execution_count": 285,
   "metadata": {},
   "outputs": [
    {
     "data": {
      "text/plain": [
       "[{'artist': 'kiri nichol',\n",
       "  'date': '2013',\n",
       "  'genre': nan,\n",
       "  'pixelsx': 9003.0,\n",
       "  'pixelsy': 9004.0,\n",
       "  'size_bytes': 1942046.0,\n",
       "  'source': nan,\n",
       "  'style': 'Neoplasticism',\n",
       "  'title': nan,\n",
       "  'artist_group': 'test_only',\n",
       "  'in_train': False,\n",
       "  'new_filename': '20304.jpg',\n",
       "  'artist_format': 'kiri-nichol',\n",
       "  'title_format': nan,\n",
       "  'url': 'https://www.wikiart.org/fr/',\n",
       "  'g_url': 'kiri+nichol'}]"
      ]
     },
     "execution_count": 285,
     "metadata": {},
     "output_type": "execute_result"
    }
   ],
   "source": [
    "def get_infos_by_filename(df, name, debug=False):\n",
    "    ''' Return a dictionnary with informations about image '''\n",
    "    new_df = df.query(f\"new_filename == '{name}' \")\n",
    "    if debug :\n",
    "        print(\"-- MODE DEBUG --\")\n",
    "        print(new_df)\n",
    "    \n",
    "    new_df = new_df.to_dict('records')\n",
    "    return new_df\n",
    "    \n",
    "informations = get_infos_by_filename(df, '20304.jpg', debug=False)\n",
    "#informations[0]['g_url']\n",
    "informations"
   ]
  },
  {
   "cell_type": "code",
   "execution_count": 286,
   "metadata": {},
   "outputs": [],
   "source": [
    "def get_infos_with_url_image(df, name, debug=False):\n",
    "    # Chemin vers l'image sur GCP\n",
    "    url = f\"https://00f74ba44b914788edaacb1c5c6adb6fa6aeb5e777-apidata.googleusercontent.com/download/storage/v1/b/art-recognition-app/o/Clean_data%2FAll_artists%2FTrain%2FArtists_sorted_by_number_paintings%2F_1000%2F{name}\"\n",
    "    \n",
    "    infos = get_infos_by_filename(df, name, debug=debug)\n",
    "    \n",
    "    # https://www.google.fr/search?q=Barnette+Newman+Uriel+1955\n",
    "    search_words = infos[0]['g_url']\n",
    "    g_url = \"https://www.google.fr/search?q=\"+search_words\n",
    "    \n",
    "    wikiart_url = infos[0]['url']\n",
    "    \n",
    "    res = {\n",
    "        'filename': infos[0]['new_filename'],\n",
    "        'artist': infos[0]['artist'],\n",
    "        'title': infos[0]['title'],\n",
    "        'date': infos[0]['date'],\n",
    "        'url_image': url, \n",
    "        'url_wikiart': wikiart_url, \n",
    "        'url_google': g_url}\n",
    "     \n",
    "    return res\n"
   ]
  },
  {
   "cell_type": "code",
   "execution_count": 287,
   "metadata": {},
   "outputs": [
    {
     "data": {
      "text/plain": [
       "{'filename': '20304.jpg',\n",
       " 'artist': 'kiri nichol',\n",
       " 'title': nan,\n",
       " 'date': '2013',\n",
       " 'url_image': 'https://00f74ba44b914788edaacb1c5c6adb6fa6aeb5e777-apidata.googleusercontent.com/download/storage/v1/b/art-recognition-app/o/Clean_data%2FAll_artists%2FTrain%2FArtists_sorted_by_number_paintings%2F_1000%2F20304.jpg',\n",
       " 'url_wikiart': 'https://www.wikiart.org/fr/',\n",
       " 'url_google': 'https://www.google.fr/search?q=kiri+nichol'}"
      ]
     },
     "execution_count": 287,
     "metadata": {},
     "output_type": "execute_result"
    }
   ],
   "source": [
    "infos = get_infos_with_url_image(df, '20304.jpg')\n",
    "infos"
   ]
  },
  {
   "cell_type": "code",
   "execution_count": 293,
   "metadata": {},
   "outputs": [],
   "source": [
    "def get_infos_from_image(filename):\n",
    "    DEBUG = False\n",
    "    df = get_df(link)\n",
    "    df = formatting_data(df)\n",
    "    \n",
    "    infos = get_infos_with_url_image(df, filename, debug=DEBUG)\n",
    "    \n",
    "    return infos"
   ]
  },
  {
   "cell_type": "code",
   "execution_count": 288,
   "metadata": {},
   "outputs": [
    {
     "name": "stdout",
     "output_type": "stream",
     "text": [
      "-- MODE DEBUG --\n",
      "        artist  date genre  pixelsx  pixelsy  size_bytes source  \\\n",
      "3  kiri nichol  2013   NaN   9003.0   9004.0   1942046.0    NaN   \n",
      "\n",
      "           style title artist_group  in_train new_filename artist_format  \\\n",
      "3  Neoplasticism   NaN    test_only     False    20304.jpg   kiri-nichol   \n",
      "\n",
      "  title_format                          url        g_url  \n",
      "3          NaN  https://www.wikiart.org/fr/  kiri+nichol  \n"
     ]
    }
   ],
   "source": [
    "test = get_infos_from_image('20304.jpg')"
   ]
  },
  {
   "cell_type": "code",
   "execution_count": 302,
   "metadata": {},
   "outputs": [
    {
     "ename": "TypeError",
     "evalue": "list indices must be integers or slices, not str",
     "output_type": "error",
     "traceback": [
      "\u001b[0;31m---------------------------------------------------------------------------\u001b[0m",
      "\u001b[0;31mTypeError\u001b[0m                                 Traceback (most recent call last)",
      "\u001b[0;32m<ipython-input-302-b4e248c3baa0>\u001b[0m in \u001b[0;36m<module>\u001b[0;34m\u001b[0m\n\u001b[1;32m     14\u001b[0m     \u001b[0;32mreturn\u001b[0m \u001b[0mdirectory\u001b[0m\u001b[0;34m\u001b[0m\u001b[0;34m\u001b[0m\u001b[0m\n\u001b[1;32m     15\u001b[0m \u001b[0;34m\u001b[0m\u001b[0m\n\u001b[0;32m---> 16\u001b[0;31m \u001b[0mdf2\u001b[0m \u001b[0;34m=\u001b[0m \u001b[0mget_image_directory\u001b[0m\u001b[0;34m(\u001b[0m\u001b[0;34m'20304.jpg'\u001b[0m\u001b[0;34m)\u001b[0m\u001b[0;34m\u001b[0m\u001b[0;34m\u001b[0m\u001b[0m\n\u001b[0m\u001b[1;32m     17\u001b[0m \u001b[0mdf2\u001b[0m\u001b[0;34m\u001b[0m\u001b[0;34m\u001b[0m\u001b[0m\n",
      "\u001b[0;32m<ipython-input-302-b4e248c3baa0>\u001b[0m in \u001b[0;36mget_image_directory\u001b[0;34m(filename)\u001b[0m\n\u001b[1;32m     10\u001b[0m     \u001b[0mcdf\u001b[0m \u001b[0;34m=\u001b[0m \u001b[0mclass_df\u001b[0m\u001b[0;34m.\u001b[0m\u001b[0mquery\u001b[0m\u001b[0;34m(\u001b[0m\u001b[0;34mf\"artist == '{artist}' \"\u001b[0m\u001b[0;34m)\u001b[0m\u001b[0;34m\u001b[0m\u001b[0;34m\u001b[0m\u001b[0m\n\u001b[1;32m     11\u001b[0m     \u001b[0mclasses\u001b[0m \u001b[0;34m=\u001b[0m \u001b[0mcdf\u001b[0m\u001b[0;34m.\u001b[0m\u001b[0mto_dict\u001b[0m\u001b[0;34m(\u001b[0m\u001b[0;34m'records'\u001b[0m\u001b[0;34m)\u001b[0m\u001b[0;34m\u001b[0m\u001b[0;34m\u001b[0m\u001b[0m\n\u001b[0;32m---> 12\u001b[0;31m     \u001b[0mdirectory\u001b[0m \u001b[0;34m=\u001b[0m \u001b[0mclasses\u001b[0m\u001b[0;34m[\u001b[0m\u001b[0;34m'artist_number'\u001b[0m\u001b[0;34m]\u001b[0m\u001b[0;34m\u001b[0m\u001b[0;34m\u001b[0m\u001b[0m\n\u001b[0m\u001b[1;32m     13\u001b[0m \u001b[0;34m\u001b[0m\u001b[0m\n\u001b[1;32m     14\u001b[0m     \u001b[0;32mreturn\u001b[0m \u001b[0mdirectory\u001b[0m\u001b[0;34m\u001b[0m\u001b[0;34m\u001b[0m\u001b[0m\n",
      "\u001b[0;31mTypeError\u001b[0m: list indices must be integers or slices, not str"
     ]
    }
   ],
   "source": [
    "def get_image_directory(filename):\n",
    "    \n",
    "    path = os.path.join(root_path,'ArtRecognition', 'data','artists_numbers.csv')\n",
    "    class_df = pd.read_csv(path)\n",
    "    \n",
    "    infos = get_infos_from_image(filename)\n",
    "    artist = infos['artist']\n",
    "    \n",
    "    artist = 'John Singer Sargent'\n",
    "    cdf = class_df.query(f\"artist == '{artist}' \")\n",
    "    classes = cdf.to_dict('records')\n",
    "    directory = classes['artist_number']\n",
    "\n",
    "    return directory\n",
    "\n",
    "df2 = get_image_directory('20304.jpg')\n",
    "df2"
   ]
  },
  {
   "cell_type": "code",
   "execution_count": null,
   "metadata": {},
   "outputs": [],
   "source": []
  }
 ],
 "metadata": {
  "kernelspec": {
   "display_name": "Python 3",
   "language": "python",
   "name": "python3"
  },
  "language_info": {
   "codemirror_mode": {
    "name": "ipython",
    "version": 3
   },
   "file_extension": ".py",
   "mimetype": "text/x-python",
   "name": "python",
   "nbconvert_exporter": "python",
   "pygments_lexer": "ipython3",
   "version": "3.7.7"
  },
  "toc": {
   "base_numbering": 1,
   "nav_menu": {},
   "number_sections": true,
   "sideBar": true,
   "skip_h1_title": false,
   "title_cell": "Table of Contents",
   "title_sidebar": "Contents",
   "toc_cell": false,
   "toc_position": {},
   "toc_section_display": true,
   "toc_window_display": false
  }
 },
 "nbformat": 4,
 "nbformat_minor": 4
}

{
 "cells": [
  {
   "cell_type": "markdown",
   "metadata": {},
   "source": [
    "# Model pipeline draft"
   ]
  },
  {
   "cell_type": "code",
   "execution_count": 137,
   "metadata": {},
   "outputs": [],
   "source": [
    "import numpy as np\n",
    "import pandas as pd\n",
    "import matplotlib.pyplot as plt\n",
    "import seaborn as sns\n",
    "import os\n",
    "\n",
    "from tensorflow.keras.applications.vgg16 import VGG16\n",
    "from tensorflow.keras.preprocessing import image_dataset_from_directory\n",
    "from tensorflow.keras import layers, models, Sequential, Input, Model\n",
    "from tensorflow.keras.applications.vgg16 import preprocess_input\n",
    "from tensorflow.data.experimental import cardinality\n",
    "from tensorflow.data.experimental import AUTOTUNE\n",
    "from tensorflow.keras.preprocessing.image import ImageDataGenerator\n",
    "from tensorflow.keras.callbacks import EarlyStopping"
   ]
  },
  {
   "cell_type": "code",
   "execution_count": 74,
   "metadata": {},
   "outputs": [],
   "source": [
    "path0 = r'C:\\Users\\pitip\\code\\ClaireLeroux44\\ArtRecognition'\n",
    "n_artist = 3"
   ]
  },
  {
   "cell_type": "markdown",
   "metadata": {},
   "source": [
    "Steps:\n",
    "- load images from dataset (after folder prep) : image from dataset\n",
    "- load VGG16\n",
    "- change VGG16 last layer (add N artist id)\n",
    "- train VGG16 on dataset\n",
    "- predict artist on test set + accuracy"
   ]
  },
  {
   "cell_type": "code",
   "execution_count": 75,
   "metadata": {},
   "outputs": [
    {
     "name": "stdout",
     "output_type": "stream",
     "text": [
      "Model: \"sequential_5\"\n",
      "_________________________________________________________________\n",
      "Layer (type)                 Output Shape              Param #   \n",
      "=================================================================\n",
      "vgg16 (Functional)           (None, 7, 7, 512)         14714688  \n",
      "_________________________________________________________________\n",
      "flatten_3 (Flatten)          (None, 25088)             0         \n",
      "_________________________________________________________________\n",
      "dense_10 (Dense)             (None, 100)               2508900   \n",
      "=================================================================\n",
      "Total params: 17,223,588\n",
      "Trainable params: 2,508,900\n",
      "Non-trainable params: 14,714,688\n",
      "_________________________________________________________________\n"
     ]
    }
   ],
   "source": [
    "def VGG16_model(ndense_1=100):\n",
    "    base_model = VGG16(include_top=False, weights='imagenet', input_shape=(224, 224, 3))\n",
    "    base_model.trainable = False\n",
    "\n",
    "    model_layers = [base_model, layers.Flatten(), \n",
    "                  layers.Dense(ndense_1, activation='relu')]\n",
    "    model = models.Sequential(layers = model_layers)\n",
    "    return model\n",
    "\n",
    "model1 = VGG16_model(ndense_1=100)\n",
    "model1.summary()"
   ]
  },
  {
   "cell_type": "code",
   "execution_count": null,
   "metadata": {},
   "outputs": [],
   "source": []
  },
  {
   "cell_type": "code",
   "execution_count": 123,
   "metadata": {},
   "outputs": [
    {
     "name": "stdout",
     "output_type": "stream",
     "text": [
      "Found 15 files belonging to 3 classes.\n",
      "Found 9 files belonging to 3 classes.\n"
     ]
    }
   ],
   "source": [
    "train_dir = os.path.join(path0, 'raw_data', 'test_VGG16', 'Train')\n",
    "test_dir = os.path.join(path0, 'raw_data', 'test_VGG16', 'Test')\n",
    "BATCH_SIZE = 32\n",
    "IMG_SIZE = (224, 224)\n",
    "\n",
    "train_dataset = image_dataset_from_directory(train_dir, shuffle=True, batch_size=BATCH_SIZE, image_size=IMG_SIZE, label_mode='categorical')\n",
    "test_dataset = image_dataset_from_directory(test_dir, shuffle=True, batch_size=BATCH_SIZE, image_size=IMG_SIZE, label_mode='categorical')"
   ]
  },
  {
   "cell_type": "code",
   "execution_count": 124,
   "metadata": {},
   "outputs": [
    {
     "data": {
      "text/plain": [
       "['class_1', 'class_2', 'class_3']"
      ]
     },
     "execution_count": 124,
     "metadata": {},
     "output_type": "execute_result"
    }
   ],
   "source": [
    "class_names = train_dataset.class_names\n",
    "class_names"
   ]
  },
  {
   "cell_type": "code",
   "execution_count": 125,
   "metadata": {},
   "outputs": [],
   "source": [
    "train_batches = cardinality(train_dataset)\n",
    "validation_dataset = train_dataset.take(train_batches // 5)\n",
    "train_train_dataset = train_dataset.skip(train_batches // 5)"
   ]
  },
  {
   "cell_type": "code",
   "execution_count": 126,
   "metadata": {},
   "outputs": [],
   "source": [
    "train_train_dataset = train_train_dataset.prefetch(buffer_size=AUTOTUNE)\n",
    "validation_dataset = validation_dataset.prefetch(buffer_size=AUTOTUNE)\n",
    "test_dataset = test_dataset.prefetch(buffer_size=AUTOTUNE)"
   ]
  },
  {
   "cell_type": "code",
   "execution_count": 127,
   "metadata": {},
   "outputs": [
    {
     "name": "stdout",
     "output_type": "stream",
     "text": [
      "(15, 224, 224, 3)\n",
      "(15, 3)\n"
     ]
    }
   ],
   "source": [
    "for image_batch, labels_batch in train_train_dataset:\n",
    "    print(image_batch.shape)\n",
    "    print(labels_batch.shape)"
   ]
  },
  {
   "cell_type": "code",
   "execution_count": null,
   "metadata": {},
   "outputs": [],
   "source": [
    "datagen = ImageDataGenerator(\n",
    "    featurewise_center=False,\n",
    "    featurewise_std_normalization=False,\n",
    "    #rotation_range=10,\n",
    "    width_shift_range=0.2,\n",
    "    height_shift_range=0.2,\n",
    "#    horizontal_flip=True,\n",
    "    zoom_range=(0.8, 1.2),) \n",
    "datagen.fit(train_dataset)"
   ]
  },
  {
   "cell_type": "code",
   "execution_count": 141,
   "metadata": {},
   "outputs": [],
   "source": [
    "data_augmentation = Sequential([layers.experimental.preprocessing.RandomFlip('horizontal'),\n",
    "                                layers.experimental.preprocessing.RandomRotation(0.1),\n",
    "                                layers.experimental.preprocessing.RandomContrast(0.1),\n",
    "                                layers.experimental.preprocessing.RandomZoom(height_factor=0.2),\n",
    "                                layers.experimental.preprocessing.RandomTranslation(height_factor=0.2, width_factor=0.2)\n",
    "])"
   ]
  },
  {
   "cell_type": "code",
   "execution_count": 142,
   "metadata": {},
   "outputs": [],
   "source": [
    "#image_batch, label_batch = next(iter(train_dataset))\n",
    "#feature_batch = base_model(image_batch)\n",
    "#print(feature_batch.shape)"
   ]
  },
  {
   "cell_type": "code",
   "execution_count": 143,
   "metadata": {},
   "outputs": [],
   "source": [
    "inputs = Input(shape=(224, 224, 3))\n",
    "x = data_augmentation(inputs)\n",
    "x = preprocess_input(x)\n",
    "x = model1(x)\n",
    "prediction_layer = layers.Dense(n_artist, activation='softmax')\n",
    "outputs = prediction_layer(x)\n",
    "model = Model(inputs, outputs)"
   ]
  },
  {
   "cell_type": "code",
   "execution_count": 144,
   "metadata": {},
   "outputs": [],
   "source": [
    "model.compile(optimizer='adam', loss='categorical_crossentropy', metrics='accuracy')"
   ]
  },
  {
   "cell_type": "code",
   "execution_count": 145,
   "metadata": {},
   "outputs": [
    {
     "name": "stdout",
     "output_type": "stream",
     "text": [
      "Model: \"functional_18\"\n",
      "_________________________________________________________________\n",
      "Layer (type)                 Output Shape              Param #   \n",
      "=================================================================\n",
      "input_14 (InputLayer)        [(None, 224, 224, 3)]     0         \n",
      "_________________________________________________________________\n",
      "sequential_9 (Sequential)    (None, 224, 224, 3)       0         \n",
      "_________________________________________________________________\n",
      "tf_op_layer_strided_slice_9  [(None, 224, 224, 3)]     0         \n",
      "_________________________________________________________________\n",
      "tf_op_layer_BiasAdd_9 (Tenso [(None, 224, 224, 3)]     0         \n",
      "_________________________________________________________________\n",
      "sequential_5 (Sequential)    (None, 100)               17223588  \n",
      "_________________________________________________________________\n",
      "dense_15 (Dense)             (None, 3)                 303       \n",
      "=================================================================\n",
      "Total params: 17,223,891\n",
      "Trainable params: 2,509,203\n",
      "Non-trainable params: 14,714,688\n",
      "_________________________________________________________________\n"
     ]
    }
   ],
   "source": [
    "model.summary()"
   ]
  },
  {
   "cell_type": "code",
   "execution_count": null,
   "metadata": {},
   "outputs": [],
   "source": []
  },
  {
   "cell_type": "code",
   "execution_count": 146,
   "metadata": {},
   "outputs": [
    {
     "name": "stdout",
     "output_type": "stream",
     "text": [
      "Epoch 1/10\n",
      "1/1 [==============================] - 2s 2s/step - loss: 38.4901 - accuracy: 0.3333 - val_loss: 56.5130 - val_accuracy: 0.5556\n",
      "Epoch 2/10\n",
      "1/1 [==============================] - 1s 1s/step - loss: 18.1203 - accuracy: 0.6667 - val_loss: 70.6977 - val_accuracy: 0.4444\n",
      "Epoch 3/10\n",
      "1/1 [==============================] - 2s 2s/step - loss: 11.6085 - accuracy: 0.6667 - val_loss: 78.9916 - val_accuracy: 0.4444\n"
     ]
    }
   ],
   "source": [
    "history = model.fit(train_train_dataset, epochs=10, validation_data=test_dataset, batch_size=32, \n",
    "                    callbacks=[EarlyStopping(patience=2, restore_best_weights=True)])"
   ]
  },
  {
   "cell_type": "code",
   "execution_count": null,
   "metadata": {},
   "outputs": [],
   "source": []
  }
 ],
 "metadata": {
  "kernelspec": {
   "display_name": "Python 3",
   "language": "python",
   "name": "python3"
  },
  "language_info": {
   "codemirror_mode": {
    "name": "ipython",
    "version": 3
   },
   "file_extension": ".py",
   "mimetype": "text/x-python",
   "name": "python",
   "nbconvert_exporter": "python",
   "pygments_lexer": "ipython3",
   "version": "3.7.7"
  }
 },
 "nbformat": 4,
 "nbformat_minor": 4
}

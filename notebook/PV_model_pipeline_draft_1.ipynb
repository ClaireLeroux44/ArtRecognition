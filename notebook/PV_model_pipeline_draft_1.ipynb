{
 "cells": [
  {
   "cell_type": "markdown",
   "metadata": {},
   "source": [
    "# Model pipeline draft\n",
    "inspired by https://www.tensorflow.org/tutorials/images/transfer_learning"
   ]
  },
  {
   "cell_type": "code",
   "execution_count": 1,
   "metadata": {},
   "outputs": [],
   "source": [
    "import numpy as np\n",
    "import pandas as pd\n",
    "import matplotlib.pyplot as plt\n",
    "import seaborn as sns\n",
    "import os\n",
    "from sklearn.metrics import accuracy_score\n",
    "from tensorflow.keras.applications.vgg16 import VGG16\n",
    "from tensorflow.keras.preprocessing import image_dataset_from_directory\n",
    "from tensorflow.keras import layers, models, Sequential, Input, Model\n",
    "from tensorflow.keras.applications.vgg16 import preprocess_input\n",
    "from tensorflow.data.experimental import cardinality\n",
    "from tensorflow.data.experimental import AUTOTUNE\n",
    "from tensorflow.keras.preprocessing.image import ImageDataGenerator\n",
    "from tensorflow.keras.callbacks import EarlyStopping"
   ]
  },
  {
   "cell_type": "code",
   "execution_count": 2,
   "metadata": {},
   "outputs": [],
   "source": [
    "path0 = r'C:\\Users\\pitip\\code\\ClaireLeroux44\\ArtRecognition'\n",
    "n_artist = 3\n",
    "n_embedding = 100"
   ]
  },
  {
   "cell_type": "markdown",
   "metadata": {},
   "source": [
    "Steps:\n",
    "- load images from dataset (after folder prep) : image from dataset\n",
    "- load VGG16\n",
    "- data augmentation\n",
    "- change VGG16 last layer (add N artist id)\n",
    "- train VGG16 on dataset\n",
    "- predict artist on test set + accuracy"
   ]
  },
  {
   "cell_type": "markdown",
   "metadata": {},
   "source": [
    "## Load images from directory"
   ]
  },
  {
   "cell_type": "markdown",
   "metadata": {},
   "source": [
    "Load images + check classes + create train/val/test dataset"
   ]
  },
  {
   "cell_type": "code",
   "execution_count": 3,
   "metadata": {},
   "outputs": [
    {
     "name": "stdout",
     "output_type": "stream",
     "text": [
      "Found 15 files belonging to 3 classes.\n",
      "Found 9 files belonging to 3 classes.\n"
     ]
    }
   ],
   "source": [
    "train_dir = os.path.join(path0, 'raw_data', 'test_VGG16', 'Train')\n",
    "test_dir = os.path.join(path0, 'raw_data', 'test_VGG16', 'Test')\n",
    "BATCH_SIZE = 32\n",
    "IMG_SIZE = (224, 224)\n",
    "\n",
    "train_dataset = image_dataset_from_directory(train_dir, shuffle=True, batch_size=BATCH_SIZE, image_size=IMG_SIZE, label_mode='categorical')\n",
    "test_dataset = image_dataset_from_directory(test_dir, shuffle=True, batch_size=BATCH_SIZE, image_size=IMG_SIZE, label_mode='categorical')"
   ]
  },
  {
   "cell_type": "code",
   "execution_count": 4,
   "metadata": {},
   "outputs": [
    {
     "data": {
      "text/plain": [
       "['class_1', 'class_2', 'class_3']"
      ]
     },
     "execution_count": 4,
     "metadata": {},
     "output_type": "execute_result"
    }
   ],
   "source": [
    "class_names = train_dataset.class_names\n",
    "class_names"
   ]
  },
  {
   "cell_type": "code",
   "execution_count": 5,
   "metadata": {},
   "outputs": [],
   "source": [
    "train_batches = cardinality(train_dataset)\n",
    "validation_dataset = train_dataset.take(train_batches // 5)\n",
    "train_train_dataset = train_dataset.skip(train_batches // 5)"
   ]
  },
  {
   "cell_type": "code",
   "execution_count": 6,
   "metadata": {},
   "outputs": [],
   "source": [
    "train_train_dataset = train_train_dataset.prefetch(buffer_size=AUTOTUNE)\n",
    "validation_dataset = validation_dataset.prefetch(buffer_size=AUTOTUNE)\n",
    "test_dataset = test_dataset.prefetch(buffer_size=AUTOTUNE)"
   ]
  },
  {
   "cell_type": "code",
   "execution_count": 7,
   "metadata": {},
   "outputs": [
    {
     "name": "stdout",
     "output_type": "stream",
     "text": [
      "Number of validation batches: 0\n",
      "Number of test batches: 1\n"
     ]
    }
   ],
   "source": [
    "print('Number of validation batches: %d' % cardinality(validation_dataset))\n",
    "print('Number of test batches: %d' % cardinality(test_dataset))"
   ]
  },
  {
   "cell_type": "code",
   "execution_count": 8,
   "metadata": {},
   "outputs": [
    {
     "name": "stdout",
     "output_type": "stream",
     "text": [
      "(9, 224, 224, 3)\n",
      "(9, 3)\n"
     ]
    }
   ],
   "source": [
    "for image_batch, labels_batch in test_dataset:\n",
    "    print(image_batch.shape)\n",
    "    print(labels_batch.shape)"
   ]
  },
  {
   "cell_type": "markdown",
   "metadata": {},
   "source": [
    "## Create VGG16 root model"
   ]
  },
  {
   "cell_type": "markdown",
   "metadata": {},
   "source": [
    "VGG16 + flatten layer + dense layer of ndense_1 neurons"
   ]
  },
  {
   "cell_type": "code",
   "execution_count": 9,
   "metadata": {},
   "outputs": [
    {
     "name": "stdout",
     "output_type": "stream",
     "text": [
      "Model: \"sequential\"\n",
      "_________________________________________________________________\n",
      "Layer (type)                 Output Shape              Param #   \n",
      "=================================================================\n",
      "vgg16 (Functional)           (None, 7, 7, 512)         14714688  \n",
      "_________________________________________________________________\n",
      "flatten (Flatten)            (None, 25088)             0         \n",
      "_________________________________________________________________\n",
      "dense (Dense)                (None, 100)               2508900   \n",
      "=================================================================\n",
      "Total params: 17,223,588\n",
      "Trainable params: 2,508,900\n",
      "Non-trainable params: 14,714,688\n",
      "_________________________________________________________________\n"
     ]
    }
   ],
   "source": [
    "def VGG16_model(ndense_1=100):\n",
    "    base_model = VGG16(include_top=False, weights='imagenet', input_shape=(224, 224, 3))\n",
    "    base_model.trainable = False\n",
    "\n",
    "    model_layers = [base_model, layers.Flatten(), \n",
    "                  layers.Dense(ndense_1, activation='relu')]\n",
    "    model = models.Sequential(layers = model_layers)\n",
    "    return model\n",
    "\n",
    "model1 = VGG16_model(ndense_1=n_embedding)\n",
    "model1.summary()"
   ]
  },
  {
   "cell_type": "markdown",
   "metadata": {},
   "source": [
    "## Data augmentation (included in the model)\n",
    "https://www.tensorflow.org/tutorials/images/data_augmentation"
   ]
  },
  {
   "cell_type": "code",
   "execution_count": 10,
   "metadata": {},
   "outputs": [],
   "source": [
    "data_augmentation = Sequential([layers.experimental.preprocessing.RandomFlip('horizontal'),\n",
    "                                layers.experimental.preprocessing.RandomRotation(0.1),\n",
    "                                layers.experimental.preprocessing.RandomContrast(0.1),\n",
    "                                layers.experimental.preprocessing.RandomZoom(height_factor=0.2),\n",
    "                                layers.experimental.preprocessing.RandomTranslation(height_factor=0.2, width_factor=0.2)\n",
    "])"
   ]
  },
  {
   "cell_type": "markdown",
   "metadata": {},
   "source": [
    "## Complete model generation\n",
    "\n",
    "Data_aug + preprocess (VGG16) + model_VGG16 + prediction_layer"
   ]
  },
  {
   "cell_type": "code",
   "execution_count": 11,
   "metadata": {},
   "outputs": [],
   "source": [
    "inputs = Input(shape=(224, 224, 3))\n",
    "x = data_augmentation(inputs)\n",
    "x = preprocess_input(x)\n",
    "x = model1(x)\n",
    "prediction_layer = layers.Dense(n_artist, activation='softmax')\n",
    "outputs = prediction_layer(x)\n",
    "model = Model(inputs, outputs)"
   ]
  },
  {
   "cell_type": "code",
   "execution_count": 12,
   "metadata": {},
   "outputs": [],
   "source": [
    "model.compile(optimizer='adam', loss='categorical_crossentropy', metrics='accuracy')"
   ]
  },
  {
   "cell_type": "code",
   "execution_count": 13,
   "metadata": {},
   "outputs": [
    {
     "name": "stdout",
     "output_type": "stream",
     "text": [
      "Model: \"functional_1\"\n",
      "_________________________________________________________________\n",
      "Layer (type)                 Output Shape              Param #   \n",
      "=================================================================\n",
      "input_2 (InputLayer)         [(None, 224, 224, 3)]     0         \n",
      "_________________________________________________________________\n",
      "sequential_1 (Sequential)    (None, 224, 224, 3)       0         \n",
      "_________________________________________________________________\n",
      "tf_op_layer_strided_slice (T [(None, 224, 224, 3)]     0         \n",
      "_________________________________________________________________\n",
      "tf_op_layer_BiasAdd (TensorF [(None, 224, 224, 3)]     0         \n",
      "_________________________________________________________________\n",
      "sequential (Sequential)      (None, 100)               17223588  \n",
      "_________________________________________________________________\n",
      "dense_1 (Dense)              (None, 3)                 303       \n",
      "=================================================================\n",
      "Total params: 17,223,891\n",
      "Trainable params: 2,509,203\n",
      "Non-trainable params: 14,714,688\n",
      "_________________________________________________________________\n"
     ]
    }
   ],
   "source": [
    "model.summary()"
   ]
  },
  {
   "cell_type": "markdown",
   "metadata": {},
   "source": [
    "## Fit du model"
   ]
  },
  {
   "cell_type": "code",
   "execution_count": 14,
   "metadata": {},
   "outputs": [
    {
     "name": "stdout",
     "output_type": "stream",
     "text": [
      "Epoch 1/10\n",
      "1/1 [==============================] - 2s 2s/step - loss: 9.2051 - accuracy: 0.3333 - val_loss: 46.1709 - val_accuracy: 0.3333\n",
      "Epoch 2/10\n",
      "1/1 [==============================] - 2s 2s/step - loss: 32.8460 - accuracy: 0.4000 - val_loss: 45.2194 - val_accuracy: 0.2222\n",
      "Epoch 3/10\n",
      "1/1 [==============================] - 2s 2s/step - loss: 29.9141 - accuracy: 0.4000 - val_loss: 35.9045 - val_accuracy: 0.4444\n",
      "Epoch 4/10\n",
      "1/1 [==============================] - 3s 3s/step - loss: 15.1263 - accuracy: 0.4667 - val_loss: 36.6399 - val_accuracy: 0.3333\n",
      "Epoch 5/10\n",
      "1/1 [==============================] - 3s 3s/step - loss: 9.5306 - accuracy: 0.6667 - val_loss: 24.8580 - val_accuracy: 0.3333\n",
      "Epoch 6/10\n",
      "1/1 [==============================] - 2s 2s/step - loss: 4.9791 - accuracy: 0.8000 - val_loss: 22.3400 - val_accuracy: 0.2222\n",
      "Epoch 7/10\n",
      "1/1 [==============================] - 2s 2s/step - loss: 5.4240 - accuracy: 0.6000 - val_loss: 21.5580 - val_accuracy: 0.2222\n",
      "Epoch 8/10\n",
      "1/1 [==============================] - 2s 2s/step - loss: 1.9836 - accuracy: 0.8000 - val_loss: 19.1059 - val_accuracy: 0.3333\n",
      "Epoch 9/10\n",
      "1/1 [==============================] - 2s 2s/step - loss: 3.1100 - accuracy: 0.8000 - val_loss: 16.1923 - val_accuracy: 0.2222\n",
      "Epoch 10/10\n",
      "1/1 [==============================] - 3s 3s/step - loss: 9.9808 - accuracy: 0.7333 - val_loss: 13.9697 - val_accuracy: 0.3333\n"
     ]
    }
   ],
   "source": [
    "history = model.fit(train_train_dataset, epochs=10, validation_data=test_dataset, batch_size=32, \n",
    "                    callbacks=[EarlyStopping(patience=2, restore_best_weights=True)])"
   ]
  },
  {
   "cell_type": "markdown",
   "metadata": {},
   "source": [
    "## Plot history and compute accuracy"
   ]
  },
  {
   "cell_type": "code",
   "execution_count": 15,
   "metadata": {},
   "outputs": [
    {
     "data": {
      "image/png": "[encoded data removed]",
      "text/plain": [
       "<Figure size 1080x288 with 2 Axes>"
      ]
     },
     "metadata": {
      "needs_background": "light"
     },
     "output_type": "display_data"
    }
   ],
   "source": [
    "fig, ax = plt.subplots(1, 2, figsize=(15, 4))\n",
    "ax[0].plot(history.history['loss'], label='Train set loss')\n",
    "ax[0].plot(history.history['val_loss'], label='Validation set loss')\n",
    "ax[0].legend()\n",
    "ax[0].set_xlabel('Epoch')\n",
    "ax[0].set_ylabel('Loss')\n",
    "ax[1].plot(history.history['accuracy'], label='Train set accuracy')\n",
    "ax[1].plot(history.history['val_accuracy'], label='Validation set accuracy')\n",
    "ax[1].legend()\n",
    "ax[1].set_xlabel('Epoch')\n",
    "ax[1].set_ylabel('Accuracy');"
   ]
  },
  {
   "cell_type": "code",
   "execution_count": 16,
   "metadata": {},
   "outputs": [
    {
     "name": "stdout",
     "output_type": "stream",
     "text": [
      "1/1 [==============================] - 0s 3ms/step - loss: 13.9697 - accuracy: 0.3333\n",
      "Test accuracy : 0.3333333432674408\n"
     ]
    }
   ],
   "source": [
    "loss, accuracy = model.evaluate(test_dataset)\n",
    "print('Test accuracy :', accuracy)"
   ]
  },
  {
   "cell_type": "code",
   "execution_count": null,
   "metadata": {},
   "outputs": [],
   "source": []
  }
 ],
 "metadata": {
  "kernelspec": {
   "display_name": "Python 3",
   "language": "python",
   "name": "python3"
  },
  "language_info": {
   "codemirror_mode": {
    "name": "ipython",
    "version": 3
   },
   "file_extension": ".py",
   "mimetype": "text/x-python",
   "name": "python",
   "nbconvert_exporter": "python",
   "pygments_lexer": "ipython3",
   "version": "3.7.7"
  }
 },
 "nbformat": 4,
 "nbformat_minor": 4
}
